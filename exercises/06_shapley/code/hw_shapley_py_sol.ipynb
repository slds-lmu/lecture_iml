{
 "cells": [
  {
   "cell_type": "markdown",
   "metadata": {
    "cell_id": "69ca2dc3-2eb6-4cfa-8ae0-9e503dd4c6d3",
    "deepnote_cell_height": 82,
    "deepnote_cell_type": "markdown",
    "tags": []
   },
   "source": [
    "# Exercise Sheet 3"
   ]
  },
  {
   "cell_type": "markdown",
   "metadata": {
    "cell_id": "9a28e284-a010-43aa-8ec8-cfc2f834077b",
    "deepnote_cell_height": 70,
    "deepnote_cell_type": "markdown",
    "tags": []
   },
   "source": [
    "## Exercise 1: Shapley Values"
   ]
  },
  {
   "cell_type": "code",
   "execution_count": 1,
   "metadata": {},
   "outputs": [],
   "source": [
    "import numpy as np\n",
    "import math"
   ]
  },
  {
   "cell_type": "code",
   "execution_count": 2,
   "metadata": {},
   "outputs": [],
   "source": [
    "np.random.seed(123456)"
   ]
  },
  {
   "cell_type": "code",
   "execution_count": 3,
   "metadata": {
    "cell_id": "0a17b0ff-62d5-43e7-b113-2301c83d4973",
    "deepnote_cell_height": 225,
    "deepnote_cell_type": "code",
    "deepnote_to_be_reexecuted": false,
    "execution_millis": 11,
    "execution_start": 1653982371149,
    "source_hash": "fcdcf697",
    "tags": []
   },
   "outputs": [],
   "source": [
    "def payoff(team):\n",
    "    team = set(team)\n",
    "    t = 't' in team\n",
    "    s = 's' in team\n",
    "    m = 'm' in team\n",
    "    j = 'j' in team\n",
    "    l = 'l' in team\n",
    "    reward = 10*t + 10*m + 2*j + 20 * (t and m) + 20 * (t and m and s) - 30 * ((t or m or s) and j)\n",
    "    return reward"
   ]
  },
  {
   "cell_type": "code",
   "execution_count": 4,
   "metadata": {
    "cell_id": "455c6edaaf6545d293282935f3774da4",
    "deepnote_cell_height": 81,
    "deepnote_cell_type": "code",
    "deepnote_to_be_reexecuted": false,
    "execution_millis": 135853906,
    "execution_start": 1653982371165,
    "source_hash": "c00c6920",
    "tags": []
   },
   "outputs": [],
   "source": [
    "population = ['t', 'm', 's', 'j', 'l']"
   ]
  },
  {
   "cell_type": "code",
   "execution_count": 5,
   "metadata": {
    "cell_id": "50ceda71-b7aa-40a0-9968-0b2d07d660ca",
    "deepnote_cell_height": 549,
    "deepnote_cell_type": "code",
    "deepnote_to_be_reexecuted": false,
    "execution_millis": 84,
    "execution_start": 1653982371173,
    "source_hash": "171fe7ee",
    "tags": []
   },
   "outputs": [],
   "source": [
    "def all_unique_subsets(population):\n",
    "    population = list(population)\n",
    "    if len(population) == 0:\n",
    "        return [[]]\n",
    "    else:\n",
    "        subsets = all_unique_subsets(population[1:])\n",
    "        subsets_with = []\n",
    "        for s in subsets:\n",
    "            s_with = list(s)\n",
    "            s_with.append(population[0])\n",
    "            subsets_with.append(s_with)\n",
    "        subsets = subsets + subsets_with\n",
    "        return subsets\n",
    "\n",
    "def shapley(member, population, vfunc):\n",
    "    remainder = [ind for ind in population if member != ind]\n",
    "    all_sets = all_unique_subsets(remainder)\n",
    "    val = 0\n",
    "    F = len(population)\n",
    "    for s in all_sets:\n",
    "        S = len(s)\n",
    "        diff = vfunc(s + [member]) - vfunc(s)\n",
    "        factor = math.factorial(S) * math.factorial(F-S-1) / math.factorial(F)\n",
    "        val += factor * diff\n",
    "    return val"
   ]
  },
  {
   "cell_type": "code",
   "execution_count": 7,
   "metadata": {
    "cell_id": "2339fdec-95bf-43d1-bb22-76d438817da5",
    "deepnote_cell_height": 118,
    "deepnote_cell_type": "code",
    "deepnote_output_heights": [
     21
    ],
    "deepnote_to_be_reexecuted": false,
    "execution_millis": 223,
    "execution_start": 1653982371263,
    "source_hash": "235a6a90",
    "tags": []
   },
   "outputs": [
    {
     "data": {
      "text/plain": [
       "-20.500000000000004"
      ]
     },
     "execution_count": 7,
     "metadata": {},
     "output_type": "execute_result"
    }
   ],
   "source": [
    "shapley('t', ['t', 'm', 's', 'j', 'l'], payoff)\n",
    "shapley('m', ['t', 'm', 's', 'j', 'l'], payoff)\n",
    "shapley('s', ['t', 'm', 's', 'j', 'l'], payoff)\n",
    "shapley('l', ['t', 'm', 's', 'j', 'l'], payoff)\n",
    "shapley('j', ['t', 'm', 's', 'j', 'l'], payoff)"
   ]
  },
  {
   "cell_type": "markdown",
   "metadata": {
    "cell_id": "b83f1993-d740-401a-a132-5f80d0637239",
    "deepnote_cell_height": 70,
    "deepnote_cell_type": "markdown",
    "tags": []
   },
   "source": [
    "## b)"
   ]
  },
  {
   "cell_type": "code",
   "execution_count": 22,
   "metadata": {
    "cell_id": "bd67d175-094f-4139-9431-9171fe96943b",
    "deepnote_cell_height": 243,
    "deepnote_cell_type": "code",
    "deepnote_to_be_reexecuted": false,
    "execution_millis": 9,
    "execution_start": 1653982371283,
    "source_hash": "b48d53d9",
    "tags": []
   },
   "outputs": [],
   "source": [
    "def shapley_perm(member, population, vfunc, *args, its=100):\n",
    "    vals = []\n",
    "    for ii in range(its):\n",
    "        perm = np.random.permutation(population)\n",
    "        member_ix = np.where(perm == member)\n",
    "        s = perm[:member_ix[0][0]].tolist()\n",
    "        diff = vfunc(s + [member], *args) - vfunc(s, *args)\n",
    "        vals.append(diff)\n",
    "    val = sum(vals)/len(vals)\n",
    "    return val"
   ]
  },
  {
   "cell_type": "code",
   "execution_count": 11,
   "metadata": {
    "cell_id": "82cc9926-50a2-4a80-9596-def7928e887f",
    "deepnote_cell_height": 118,
    "deepnote_cell_type": "code",
    "deepnote_output_heights": [
     21
    ],
    "deepnote_to_be_reexecuted": false,
    "execution_millis": 1814,
    "execution_start": 1653982371298,
    "source_hash": "e56b7951",
    "tags": []
   },
   "outputs": [
    {
     "data": {
      "text/plain": [
       "24.0839"
      ]
     },
     "execution_count": 11,
     "metadata": {},
     "output_type": "execute_result"
    }
   ],
   "source": [
    "shapley_perm('t', ['t', 'm', 's', 'j', 'l'], payoff, its=100000)"
   ]
  },
  {
   "cell_type": "markdown",
   "metadata": {
    "cell_id": "3869d642ec5d49a4aa07490807896deb",
    "deepnote_cell_height": 70,
    "deepnote_cell_type": "markdown",
    "tags": []
   },
   "source": [
    "## c) "
   ]
  },
  {
   "cell_type": "markdown",
   "metadata": {
    "cell_id": "3e39ddec6df1412497cf40ec68304e0e",
    "deepnote_cell_height": 62,
    "deepnote_cell_type": "markdown",
    "tags": []
   },
   "source": [
    "### i) Symmetry Check"
   ]
  },
  {
   "cell_type": "code",
   "execution_count": null,
   "metadata": {
    "cell_id": "055fef6e98b548459ace34ba9ba5afdf",
    "deepnote_cell_height": 423,
    "deepnote_cell_type": "code",
    "deepnote_to_be_reexecuted": false,
    "execution_millis": 9,
    "execution_start": 1653982373121,
    "source_hash": "cbb373c7",
    "tags": []
   },
   "outputs": [],
   "source": [
    "def symmetry_check(j, k, population, vfunc, shapley_func):\n",
    "    remainder = set(population) - set([j, k])\n",
    "    all_S = all_unique_subsets(remainder)\n",
    "    surpluss_j = []\n",
    "    surpluss_k = []\n",
    "    for S in all_S:\n",
    "        surplus_j = vfunc(S + [j]) - vfunc(S)\n",
    "        surplus_k = vfunc(S + [k]) - vfunc(S)\n",
    "        surpluss_j.append(surplus_j)\n",
    "        surpluss_k.append(surplus_k)\n",
    "    surpluss_j, surpluss_k = np.array(surpluss_j), np.array(surpluss_k)\n",
    "    equal_surplus = np.all(surpluss_j == surpluss_k)\n",
    "    if equal_surplus:\n",
    "        print('equal surplus')\n",
    "        val_j = shapley_func(j, population, vfunc)\n",
    "        val_k = shapley_func(k, population, vfunc)\n",
    "        return val_j == val_k\n",
    "    else:\n",
    "        return True\n"
   ]
  },
  {
   "cell_type": "code",
   "execution_count": null,
   "metadata": {
    "cell_id": "d552002d9a6f4f75b777a96841136bd8",
    "deepnote_cell_height": 163.6999969482422,
    "deepnote_cell_type": "code",
    "deepnote_output_heights": [
     null,
     21
    ],
    "deepnote_to_be_reexecuted": false,
    "execution_millis": 1,
    "execution_start": 1653982373142,
    "source_hash": "6713a8cf",
    "tags": []
   },
   "outputs": [],
   "source": [
    "symmetry_check('m', 't', population, payoff, shapley)"
   ]
  },
  {
   "cell_type": "markdown",
   "metadata": {
    "cell_id": "e1bd65f74ad24d9abbb0a3fdb64cd014",
    "deepnote_cell_height": 62,
    "deepnote_cell_type": "markdown",
    "tags": []
   },
   "source": [
    "### ii) Dummy property check"
   ]
  },
  {
   "cell_type": "code",
   "execution_count": null,
   "metadata": {
    "cell_id": "7a6cfdf6a3284fe09619e86159b6a1d7",
    "deepnote_cell_height": 315,
    "deepnote_cell_type": "code",
    "deepnote_to_be_reexecuted": false,
    "execution_millis": 4,
    "execution_start": 1653982373156,
    "source_hash": "68e607d7",
    "tags": []
   },
   "outputs": [],
   "source": [
    "def dummy_check(j, population, vfunc, shapley_func):\n",
    "    remainder = set(population) - set([j])\n",
    "    all_S = all_unique_subsets(remainder)\n",
    "    surpluss_j = []\n",
    "    for S in all_S:\n",
    "        surplus_j = vfunc(S + [j]) - vfunc(S)\n",
    "        surpluss_j.append(surplus_j)\n",
    "    has_contribution = np.sum(np.abs(surpluss_j)) > 0\n",
    "    if has_contribution:\n",
    "        print('has contribution')\n",
    "        val_j = shapley_func(j, population, vfunc)\n",
    "        return val_j > 0\n",
    "    else:\n",
    "        return True"
   ]
  },
  {
   "cell_type": "code",
   "execution_count": null,
   "metadata": {
    "cell_id": "2f8802d0febb44b6a3bfa8299d51aefc",
    "deepnote_cell_height": 118,
    "deepnote_cell_type": "code",
    "deepnote_output_heights": [
     21
    ],
    "deepnote_to_be_reexecuted": false,
    "execution_millis": 3,
    "execution_start": 1653982373162,
    "source_hash": "7b1e4bf9",
    "tags": []
   },
   "outputs": [],
   "source": [
    "dummy_check('l', population, payoff, shapley)"
   ]
  },
  {
   "cell_type": "markdown",
   "metadata": {
    "cell_id": "1a9ac33ae9e44bd3aeecdf33682fe907",
    "deepnote_cell_height": 62,
    "deepnote_cell_type": "markdown",
    "tags": []
   },
   "source": [
    "### iii) Additivity check"
   ]
  },
  {
   "cell_type": "code",
   "execution_count": null,
   "metadata": {
    "cell_id": "86ac8627e0d24635a9f06a4305367f93",
    "deepnote_cell_height": 207,
    "deepnote_cell_type": "code",
    "deepnote_to_be_reexecuted": false,
    "execution_millis": 135849284,
    "execution_start": 1653982373212,
    "source_hash": "8e028f56",
    "tags": []
   },
   "outputs": [],
   "source": [
    "def additivity_check(population, vfunc1, vfunc2, shapley_func):\n",
    "    combined = lambda x : vfunc1(x) + vfunc2(x)\n",
    "    vals1 = np.array([shapley_func(j, population, vfunc1) for j in population])\n",
    "    vals2 = np.array([shapley_func(j, population, vfunc2) for j in population])\n",
    "    vals_comb = np.array([shapley_func(j, population, combined) for j in population])\n",
    "    vals_additive = vals1 + vals2\n",
    "    return np.all(vals_comb == vals_additive)\n"
   ]
  },
  {
   "cell_type": "code",
   "execution_count": null,
   "metadata": {
    "cell_id": "02d3e746b996437684ffb31460f6b473",
    "deepnote_cell_height": 154,
    "deepnote_cell_type": "code",
    "deepnote_output_heights": [
     21
    ],
    "deepnote_to_be_reexecuted": false,
    "execution_millis": 2,
    "execution_start": 1653982373213,
    "source_hash": "d44a2e8e",
    "tags": []
   },
   "outputs": [],
   "source": [
    "payoff2 = payoff\n",
    "\n",
    "additivity_check(population, payoff, payoff2, shapley)"
   ]
  },
  {
   "cell_type": "markdown",
   "metadata": {
    "cell_id": "7219613527144258a3ada4efc41e81a0",
    "deepnote_cell_height": 62,
    "deepnote_cell_type": "markdown",
    "tags": []
   },
   "source": [
    "### iv): Efficiency check"
   ]
  },
  {
   "cell_type": "code",
   "execution_count": null,
   "metadata": {
    "cell_id": "c0de7c8518a2484394841be598796937",
    "deepnote_cell_height": 171,
    "deepnote_cell_type": "code",
    "deepnote_to_be_reexecuted": false,
    "execution_millis": 0,
    "execution_start": 1653982373213,
    "source_hash": "7a8be57b",
    "tags": []
   },
   "outputs": [],
   "source": [
    "def efficiency_check(population, vfunc, shapley_func):\n",
    "    payoff_total = vfunc(population)\n",
    "    shapley_vals = [shapley_func(j, population, vfunc) for j in population]\n",
    "    total_shapley_vals = np.sum(shapley_vals)\n",
    "    pt, st = round(payoff_total, 5), round(total_shapley_vals, 5)\n",
    "    return pt == st"
   ]
  },
  {
   "cell_type": "code",
   "execution_count": null,
   "metadata": {
    "cell_id": "1cc67e1a112d43ffb9ad2a954b0504b4",
    "deepnote_cell_height": 118,
    "deepnote_cell_type": "code",
    "deepnote_output_heights": [
     21
    ],
    "deepnote_to_be_reexecuted": false,
    "execution_millis": 15,
    "execution_start": 1653982373214,
    "source_hash": "ce5147d4",
    "tags": []
   },
   "outputs": [],
   "source": [
    "efficiency_check(population, payoff, shapley)"
   ]
  },
  {
   "cell_type": "markdown",
   "metadata": {
    "cell_id": "4c37a8a29f8d4a4985002d5d3a32a90c",
    "deepnote_cell_height": 70,
    "deepnote_cell_type": "markdown",
    "deepnote_to_be_reexecuted": false,
    "execution_millis": 0,
    "execution_start": 1653641984749,
    "source_hash": "657f3e57",
    "tags": []
   },
   "source": [
    "## Exercise 2: SHAP"
   ]
  },
  {
   "cell_type": "code",
   "execution_count": 1,
   "metadata": {},
   "outputs": [
    {
     "name": "stdout",
     "output_type": "stream",
     "text": [
      "Requirement already satisfied: shap in /home/coco/anaconda3/envs/devel/lib/python3.12/site-packages (0.47.2)\n",
      "Requirement already satisfied: numpy in /home/coco/anaconda3/envs/devel/lib/python3.12/site-packages (from shap) (1.26.4)\n",
      "Requirement already satisfied: scipy in /home/coco/anaconda3/envs/devel/lib/python3.12/site-packages (from shap) (1.15.3)\n",
      "Requirement already satisfied: scikit-learn in /home/coco/anaconda3/envs/devel/lib/python3.12/site-packages (from shap) (1.6.1)\n",
      "Requirement already satisfied: pandas in /home/coco/anaconda3/envs/devel/lib/python3.12/site-packages (from shap) (2.2.3)\n",
      "Requirement already satisfied: tqdm>=4.27.0 in /home/coco/anaconda3/envs/devel/lib/python3.12/site-packages (from shap) (4.67.1)\n",
      "Requirement already satisfied: packaging>20.9 in /home/coco/anaconda3/envs/devel/lib/python3.12/site-packages (from shap) (24.2)\n",
      "Requirement already satisfied: slicer==0.0.8 in /home/coco/anaconda3/envs/devel/lib/python3.12/site-packages (from shap) (0.0.8)\n",
      "Requirement already satisfied: numba>=0.54 in /home/coco/anaconda3/envs/devel/lib/python3.12/site-packages (from shap) (0.61.0)\n",
      "Requirement already satisfied: cloudpickle in /home/coco/anaconda3/envs/devel/lib/python3.12/site-packages (from shap) (3.0.0)\n",
      "Requirement already satisfied: typing-extensions in /home/coco/anaconda3/envs/devel/lib/python3.12/site-packages (from shap) (4.12.2)\n",
      "Requirement already satisfied: llvmlite<0.45,>=0.44.0dev0 in /home/coco/anaconda3/envs/devel/lib/python3.12/site-packages (from numba>=0.54->shap) (0.44.0)\n",
      "Requirement already satisfied: python-dateutil>=2.8.2 in /home/coco/anaconda3/envs/devel/lib/python3.12/site-packages (from pandas->shap) (2.9.0.post0)\n",
      "Requirement already satisfied: pytz>=2020.1 in /home/coco/anaconda3/envs/devel/lib/python3.12/site-packages (from pandas->shap) (2024.1)\n",
      "Requirement already satisfied: tzdata>=2022.7 in /home/coco/anaconda3/envs/devel/lib/python3.12/site-packages (from pandas->shap) (2025.2)\n",
      "Requirement already satisfied: six>=1.5 in /home/coco/anaconda3/envs/devel/lib/python3.12/site-packages (from python-dateutil>=2.8.2->pandas->shap) (1.17.0)\n",
      "Requirement already satisfied: joblib>=1.2.0 in /home/coco/anaconda3/envs/devel/lib/python3.12/site-packages (from scikit-learn->shap) (1.4.2)\n",
      "Requirement already satisfied: threadpoolctl>=3.1.0 in /home/coco/anaconda3/envs/devel/lib/python3.12/site-packages (from scikit-learn->shap) (3.5.0)\n"
     ]
    }
   ],
   "source": [
    "!pip install shap"
   ]
  },
  {
   "cell_type": "code",
   "execution_count": 2,
   "metadata": {},
   "outputs": [],
   "source": [
    "import numpy as np\n",
    "%matplotlib inline"
   ]
  },
  {
   "cell_type": "code",
   "execution_count": 3,
   "metadata": {},
   "outputs": [],
   "source": [
    "np.random.seed(123456)"
   ]
  },
  {
   "cell_type": "markdown",
   "metadata": {
    "cell_id": "cb4816c5e4734c83830b11591ee09513",
    "deepnote_cell_height": 62,
    "deepnote_cell_type": "markdown",
    "tags": []
   },
   "source": [
    "\n",
    "### a)"
   ]
  },
  {
   "cell_type": "code",
   "execution_count": 4,
   "metadata": {
    "cell_id": "4f5c33cb008d48ddaae85268974b94c3",
    "deepnote_cell_height": 388,
    "deepnote_cell_type": "code",
    "deepnote_output_heights": [
     21
    ],
    "deepnote_to_be_reexecuted": false,
    "execution_millis": 2844,
    "execution_start": 1653982373279,
    "source_hash": "90c33cf5",
    "tags": []
   },
   "outputs": [
    {
     "data": {
      "text/html": [
       "<style>#sk-container-id-1 {\n",
       "  /* Definition of color scheme common for light and dark mode */\n",
       "  --sklearn-color-text: #000;\n",
       "  --sklearn-color-text-muted: #666;\n",
       "  --sklearn-color-line: gray;\n",
       "  /* Definition of color scheme for unfitted estimators */\n",
       "  --sklearn-color-unfitted-level-0: #fff5e6;\n",
       "  --sklearn-color-unfitted-level-1: #f6e4d2;\n",
       "  --sklearn-color-unfitted-level-2: #ffe0b3;\n",
       "  --sklearn-color-unfitted-level-3: chocolate;\n",
       "  /* Definition of color scheme for fitted estimators */\n",
       "  --sklearn-color-fitted-level-0: #f0f8ff;\n",
       "  --sklearn-color-fitted-level-1: #d4ebff;\n",
       "  --sklearn-color-fitted-level-2: #b3dbfd;\n",
       "  --sklearn-color-fitted-level-3: cornflowerblue;\n",
       "\n",
       "  /* Specific color for light theme */\n",
       "  --sklearn-color-text-on-default-background: var(--sg-text-color, var(--theme-code-foreground, var(--jp-content-font-color1, black)));\n",
       "  --sklearn-color-background: var(--sg-background-color, var(--theme-background, var(--jp-layout-color0, white)));\n",
       "  --sklearn-color-border-box: var(--sg-text-color, var(--theme-code-foreground, var(--jp-content-font-color1, black)));\n",
       "  --sklearn-color-icon: #696969;\n",
       "\n",
       "  @media (prefers-color-scheme: dark) {\n",
       "    /* Redefinition of color scheme for dark theme */\n",
       "    --sklearn-color-text-on-default-background: var(--sg-text-color, var(--theme-code-foreground, var(--jp-content-font-color1, white)));\n",
       "    --sklearn-color-background: var(--sg-background-color, var(--theme-background, var(--jp-layout-color0, #111)));\n",
       "    --sklearn-color-border-box: var(--sg-text-color, var(--theme-code-foreground, var(--jp-content-font-color1, white)));\n",
       "    --sklearn-color-icon: #878787;\n",
       "  }\n",
       "}\n",
       "\n",
       "#sk-container-id-1 {\n",
       "  color: var(--sklearn-color-text);\n",
       "}\n",
       "\n",
       "#sk-container-id-1 pre {\n",
       "  padding: 0;\n",
       "}\n",
       "\n",
       "#sk-container-id-1 input.sk-hidden--visually {\n",
       "  border: 0;\n",
       "  clip: rect(1px 1px 1px 1px);\n",
       "  clip: rect(1px, 1px, 1px, 1px);\n",
       "  height: 1px;\n",
       "  margin: -1px;\n",
       "  overflow: hidden;\n",
       "  padding: 0;\n",
       "  position: absolute;\n",
       "  width: 1px;\n",
       "}\n",
       "\n",
       "#sk-container-id-1 div.sk-dashed-wrapped {\n",
       "  border: 1px dashed var(--sklearn-color-line);\n",
       "  margin: 0 0.4em 0.5em 0.4em;\n",
       "  box-sizing: border-box;\n",
       "  padding-bottom: 0.4em;\n",
       "  background-color: var(--sklearn-color-background);\n",
       "}\n",
       "\n",
       "#sk-container-id-1 div.sk-container {\n",
       "  /* jupyter's `normalize.less` sets `[hidden] { display: none; }`\n",
       "     but bootstrap.min.css set `[hidden] { display: none !important; }`\n",
       "     so we also need the `!important` here to be able to override the\n",
       "     default hidden behavior on the sphinx rendered scikit-learn.org.\n",
       "     See: https://github.com/scikit-learn/scikit-learn/issues/21755 */\n",
       "  display: inline-block !important;\n",
       "  position: relative;\n",
       "}\n",
       "\n",
       "#sk-container-id-1 div.sk-text-repr-fallback {\n",
       "  display: none;\n",
       "}\n",
       "\n",
       "div.sk-parallel-item,\n",
       "div.sk-serial,\n",
       "div.sk-item {\n",
       "  /* draw centered vertical line to link estimators */\n",
       "  background-image: linear-gradient(var(--sklearn-color-text-on-default-background), var(--sklearn-color-text-on-default-background));\n",
       "  background-size: 2px 100%;\n",
       "  background-repeat: no-repeat;\n",
       "  background-position: center center;\n",
       "}\n",
       "\n",
       "/* Parallel-specific style estimator block */\n",
       "\n",
       "#sk-container-id-1 div.sk-parallel-item::after {\n",
       "  content: \"\";\n",
       "  width: 100%;\n",
       "  border-bottom: 2px solid var(--sklearn-color-text-on-default-background);\n",
       "  flex-grow: 1;\n",
       "}\n",
       "\n",
       "#sk-container-id-1 div.sk-parallel {\n",
       "  display: flex;\n",
       "  align-items: stretch;\n",
       "  justify-content: center;\n",
       "  background-color: var(--sklearn-color-background);\n",
       "  position: relative;\n",
       "}\n",
       "\n",
       "#sk-container-id-1 div.sk-parallel-item {\n",
       "  display: flex;\n",
       "  flex-direction: column;\n",
       "}\n",
       "\n",
       "#sk-container-id-1 div.sk-parallel-item:first-child::after {\n",
       "  align-self: flex-end;\n",
       "  width: 50%;\n",
       "}\n",
       "\n",
       "#sk-container-id-1 div.sk-parallel-item:last-child::after {\n",
       "  align-self: flex-start;\n",
       "  width: 50%;\n",
       "}\n",
       "\n",
       "#sk-container-id-1 div.sk-parallel-item:only-child::after {\n",
       "  width: 0;\n",
       "}\n",
       "\n",
       "/* Serial-specific style estimator block */\n",
       "\n",
       "#sk-container-id-1 div.sk-serial {\n",
       "  display: flex;\n",
       "  flex-direction: column;\n",
       "  align-items: center;\n",
       "  background-color: var(--sklearn-color-background);\n",
       "  padding-right: 1em;\n",
       "  padding-left: 1em;\n",
       "}\n",
       "\n",
       "\n",
       "/* Toggleable style: style used for estimator/Pipeline/ColumnTransformer box that is\n",
       "clickable and can be expanded/collapsed.\n",
       "- Pipeline and ColumnTransformer use this feature and define the default style\n",
       "- Estimators will overwrite some part of the style using the `sk-estimator` class\n",
       "*/\n",
       "\n",
       "/* Pipeline and ColumnTransformer style (default) */\n",
       "\n",
       "#sk-container-id-1 div.sk-toggleable {\n",
       "  /* Default theme specific background. It is overwritten whether we have a\n",
       "  specific estimator or a Pipeline/ColumnTransformer */\n",
       "  background-color: var(--sklearn-color-background);\n",
       "}\n",
       "\n",
       "/* Toggleable label */\n",
       "#sk-container-id-1 label.sk-toggleable__label {\n",
       "  cursor: pointer;\n",
       "  display: flex;\n",
       "  width: 100%;\n",
       "  margin-bottom: 0;\n",
       "  padding: 0.5em;\n",
       "  box-sizing: border-box;\n",
       "  text-align: center;\n",
       "  align-items: start;\n",
       "  justify-content: space-between;\n",
       "  gap: 0.5em;\n",
       "}\n",
       "\n",
       "#sk-container-id-1 label.sk-toggleable__label .caption {\n",
       "  font-size: 0.6rem;\n",
       "  font-weight: lighter;\n",
       "  color: var(--sklearn-color-text-muted);\n",
       "}\n",
       "\n",
       "#sk-container-id-1 label.sk-toggleable__label-arrow:before {\n",
       "  /* Arrow on the left of the label */\n",
       "  content: \"▸\";\n",
       "  float: left;\n",
       "  margin-right: 0.25em;\n",
       "  color: var(--sklearn-color-icon);\n",
       "}\n",
       "\n",
       "#sk-container-id-1 label.sk-toggleable__label-arrow:hover:before {\n",
       "  color: var(--sklearn-color-text);\n",
       "}\n",
       "\n",
       "/* Toggleable content - dropdown */\n",
       "\n",
       "#sk-container-id-1 div.sk-toggleable__content {\n",
       "  max-height: 0;\n",
       "  max-width: 0;\n",
       "  overflow: hidden;\n",
       "  text-align: left;\n",
       "  /* unfitted */\n",
       "  background-color: var(--sklearn-color-unfitted-level-0);\n",
       "}\n",
       "\n",
       "#sk-container-id-1 div.sk-toggleable__content.fitted {\n",
       "  /* fitted */\n",
       "  background-color: var(--sklearn-color-fitted-level-0);\n",
       "}\n",
       "\n",
       "#sk-container-id-1 div.sk-toggleable__content pre {\n",
       "  margin: 0.2em;\n",
       "  border-radius: 0.25em;\n",
       "  color: var(--sklearn-color-text);\n",
       "  /* unfitted */\n",
       "  background-color: var(--sklearn-color-unfitted-level-0);\n",
       "}\n",
       "\n",
       "#sk-container-id-1 div.sk-toggleable__content.fitted pre {\n",
       "  /* unfitted */\n",
       "  background-color: var(--sklearn-color-fitted-level-0);\n",
       "}\n",
       "\n",
       "#sk-container-id-1 input.sk-toggleable__control:checked~div.sk-toggleable__content {\n",
       "  /* Expand drop-down */\n",
       "  max-height: 200px;\n",
       "  max-width: 100%;\n",
       "  overflow: auto;\n",
       "}\n",
       "\n",
       "#sk-container-id-1 input.sk-toggleable__control:checked~label.sk-toggleable__label-arrow:before {\n",
       "  content: \"▾\";\n",
       "}\n",
       "\n",
       "/* Pipeline/ColumnTransformer-specific style */\n",
       "\n",
       "#sk-container-id-1 div.sk-label input.sk-toggleable__control:checked~label.sk-toggleable__label {\n",
       "  color: var(--sklearn-color-text);\n",
       "  background-color: var(--sklearn-color-unfitted-level-2);\n",
       "}\n",
       "\n",
       "#sk-container-id-1 div.sk-label.fitted input.sk-toggleable__control:checked~label.sk-toggleable__label {\n",
       "  background-color: var(--sklearn-color-fitted-level-2);\n",
       "}\n",
       "\n",
       "/* Estimator-specific style */\n",
       "\n",
       "/* Colorize estimator box */\n",
       "#sk-container-id-1 div.sk-estimator input.sk-toggleable__control:checked~label.sk-toggleable__label {\n",
       "  /* unfitted */\n",
       "  background-color: var(--sklearn-color-unfitted-level-2);\n",
       "}\n",
       "\n",
       "#sk-container-id-1 div.sk-estimator.fitted input.sk-toggleable__control:checked~label.sk-toggleable__label {\n",
       "  /* fitted */\n",
       "  background-color: var(--sklearn-color-fitted-level-2);\n",
       "}\n",
       "\n",
       "#sk-container-id-1 div.sk-label label.sk-toggleable__label,\n",
       "#sk-container-id-1 div.sk-label label {\n",
       "  /* The background is the default theme color */\n",
       "  color: var(--sklearn-color-text-on-default-background);\n",
       "}\n",
       "\n",
       "/* On hover, darken the color of the background */\n",
       "#sk-container-id-1 div.sk-label:hover label.sk-toggleable__label {\n",
       "  color: var(--sklearn-color-text);\n",
       "  background-color: var(--sklearn-color-unfitted-level-2);\n",
       "}\n",
       "\n",
       "/* Label box, darken color on hover, fitted */\n",
       "#sk-container-id-1 div.sk-label.fitted:hover label.sk-toggleable__label.fitted {\n",
       "  color: var(--sklearn-color-text);\n",
       "  background-color: var(--sklearn-color-fitted-level-2);\n",
       "}\n",
       "\n",
       "/* Estimator label */\n",
       "\n",
       "#sk-container-id-1 div.sk-label label {\n",
       "  font-family: monospace;\n",
       "  font-weight: bold;\n",
       "  display: inline-block;\n",
       "  line-height: 1.2em;\n",
       "}\n",
       "\n",
       "#sk-container-id-1 div.sk-label-container {\n",
       "  text-align: center;\n",
       "}\n",
       "\n",
       "/* Estimator-specific */\n",
       "#sk-container-id-1 div.sk-estimator {\n",
       "  font-family: monospace;\n",
       "  border: 1px dotted var(--sklearn-color-border-box);\n",
       "  border-radius: 0.25em;\n",
       "  box-sizing: border-box;\n",
       "  margin-bottom: 0.5em;\n",
       "  /* unfitted */\n",
       "  background-color: var(--sklearn-color-unfitted-level-0);\n",
       "}\n",
       "\n",
       "#sk-container-id-1 div.sk-estimator.fitted {\n",
       "  /* fitted */\n",
       "  background-color: var(--sklearn-color-fitted-level-0);\n",
       "}\n",
       "\n",
       "/* on hover */\n",
       "#sk-container-id-1 div.sk-estimator:hover {\n",
       "  /* unfitted */\n",
       "  background-color: var(--sklearn-color-unfitted-level-2);\n",
       "}\n",
       "\n",
       "#sk-container-id-1 div.sk-estimator.fitted:hover {\n",
       "  /* fitted */\n",
       "  background-color: var(--sklearn-color-fitted-level-2);\n",
       "}\n",
       "\n",
       "/* Specification for estimator info (e.g. \"i\" and \"?\") */\n",
       "\n",
       "/* Common style for \"i\" and \"?\" */\n",
       "\n",
       ".sk-estimator-doc-link,\n",
       "a:link.sk-estimator-doc-link,\n",
       "a:visited.sk-estimator-doc-link {\n",
       "  float: right;\n",
       "  font-size: smaller;\n",
       "  line-height: 1em;\n",
       "  font-family: monospace;\n",
       "  background-color: var(--sklearn-color-background);\n",
       "  border-radius: 1em;\n",
       "  height: 1em;\n",
       "  width: 1em;\n",
       "  text-decoration: none !important;\n",
       "  margin-left: 0.5em;\n",
       "  text-align: center;\n",
       "  /* unfitted */\n",
       "  border: var(--sklearn-color-unfitted-level-1) 1pt solid;\n",
       "  color: var(--sklearn-color-unfitted-level-1);\n",
       "}\n",
       "\n",
       ".sk-estimator-doc-link.fitted,\n",
       "a:link.sk-estimator-doc-link.fitted,\n",
       "a:visited.sk-estimator-doc-link.fitted {\n",
       "  /* fitted */\n",
       "  border: var(--sklearn-color-fitted-level-1) 1pt solid;\n",
       "  color: var(--sklearn-color-fitted-level-1);\n",
       "}\n",
       "\n",
       "/* On hover */\n",
       "div.sk-estimator:hover .sk-estimator-doc-link:hover,\n",
       ".sk-estimator-doc-link:hover,\n",
       "div.sk-label-container:hover .sk-estimator-doc-link:hover,\n",
       ".sk-estimator-doc-link:hover {\n",
       "  /* unfitted */\n",
       "  background-color: var(--sklearn-color-unfitted-level-3);\n",
       "  color: var(--sklearn-color-background);\n",
       "  text-decoration: none;\n",
       "}\n",
       "\n",
       "div.sk-estimator.fitted:hover .sk-estimator-doc-link.fitted:hover,\n",
       ".sk-estimator-doc-link.fitted:hover,\n",
       "div.sk-label-container:hover .sk-estimator-doc-link.fitted:hover,\n",
       ".sk-estimator-doc-link.fitted:hover {\n",
       "  /* fitted */\n",
       "  background-color: var(--sklearn-color-fitted-level-3);\n",
       "  color: var(--sklearn-color-background);\n",
       "  text-decoration: none;\n",
       "}\n",
       "\n",
       "/* Span, style for the box shown on hovering the info icon */\n",
       ".sk-estimator-doc-link span {\n",
       "  display: none;\n",
       "  z-index: 9999;\n",
       "  position: relative;\n",
       "  font-weight: normal;\n",
       "  right: .2ex;\n",
       "  padding: .5ex;\n",
       "  margin: .5ex;\n",
       "  width: min-content;\n",
       "  min-width: 20ex;\n",
       "  max-width: 50ex;\n",
       "  color: var(--sklearn-color-text);\n",
       "  box-shadow: 2pt 2pt 4pt #999;\n",
       "  /* unfitted */\n",
       "  background: var(--sklearn-color-unfitted-level-0);\n",
       "  border: .5pt solid var(--sklearn-color-unfitted-level-3);\n",
       "}\n",
       "\n",
       ".sk-estimator-doc-link.fitted span {\n",
       "  /* fitted */\n",
       "  background: var(--sklearn-color-fitted-level-0);\n",
       "  border: var(--sklearn-color-fitted-level-3);\n",
       "}\n",
       "\n",
       ".sk-estimator-doc-link:hover span {\n",
       "  display: block;\n",
       "}\n",
       "\n",
       "/* \"?\"-specific style due to the `<a>` HTML tag */\n",
       "\n",
       "#sk-container-id-1 a.estimator_doc_link {\n",
       "  float: right;\n",
       "  font-size: 1rem;\n",
       "  line-height: 1em;\n",
       "  font-family: monospace;\n",
       "  background-color: var(--sklearn-color-background);\n",
       "  border-radius: 1rem;\n",
       "  height: 1rem;\n",
       "  width: 1rem;\n",
       "  text-decoration: none;\n",
       "  /* unfitted */\n",
       "  color: var(--sklearn-color-unfitted-level-1);\n",
       "  border: var(--sklearn-color-unfitted-level-1) 1pt solid;\n",
       "}\n",
       "\n",
       "#sk-container-id-1 a.estimator_doc_link.fitted {\n",
       "  /* fitted */\n",
       "  border: var(--sklearn-color-fitted-level-1) 1pt solid;\n",
       "  color: var(--sklearn-color-fitted-level-1);\n",
       "}\n",
       "\n",
       "/* On hover */\n",
       "#sk-container-id-1 a.estimator_doc_link:hover {\n",
       "  /* unfitted */\n",
       "  background-color: var(--sklearn-color-unfitted-level-3);\n",
       "  color: var(--sklearn-color-background);\n",
       "  text-decoration: none;\n",
       "}\n",
       "\n",
       "#sk-container-id-1 a.estimator_doc_link.fitted:hover {\n",
       "  /* fitted */\n",
       "  background-color: var(--sklearn-color-fitted-level-3);\n",
       "}\n",
       "</style><div id=\"sk-container-id-1\" class=\"sk-top-container\"><div class=\"sk-text-repr-fallback\"><pre>RandomForestClassifier()</pre><b>In a Jupyter environment, please rerun this cell to show the HTML representation or trust the notebook. <br />On GitHub, the HTML representation is unable to render, please try loading this page with nbviewer.org.</b></div><div class=\"sk-container\" hidden><div class=\"sk-item\"><div class=\"sk-estimator fitted sk-toggleable\"><input class=\"sk-toggleable__control sk-hidden--visually\" id=\"sk-estimator-id-1\" type=\"checkbox\" checked><label for=\"sk-estimator-id-1\" class=\"sk-toggleable__label fitted sk-toggleable__label-arrow\"><div><div>RandomForestClassifier</div></div><div><a class=\"sk-estimator-doc-link fitted\" rel=\"noreferrer\" target=\"_blank\" href=\"https://scikit-learn.org/1.6/modules/generated/sklearn.ensemble.RandomForestClassifier.html\">?<span>Documentation for RandomForestClassifier</span></a><span class=\"sk-estimator-doc-link fitted\">i<span>Fitted</span></span></div></label><div class=\"sk-toggleable__content fitted\"><pre>RandomForestClassifier()</pre></div> </div></div></div></div>"
      ],
      "text/plain": [
       "RandomForestClassifier()"
      ]
     },
     "execution_count": 4,
     "metadata": {},
     "output_type": "execute_result"
    }
   ],
   "source": [
    "\n",
    "import pandas as pd\n",
    "from sklearn.ensemble import RandomForestClassifier\n",
    "from sklearn.model_selection import train_test_split\n",
    "\n",
    "df = pd.read_csv('fifa.csv')\n",
    "X, y = df.loc[:, df.columns != 'Man of the Match'], df['Man of the Match']\n",
    "y = y == 'Yes'\n",
    "X = X.select_dtypes([np.number]).copy()\n",
    "X = X.dropna(axis=1)\n",
    "\n",
    "X_train, X_test, y_train, y_test = train_test_split(X, y, test_size=0.3)\n",
    "\n",
    "rf = RandomForestClassifier()\n",
    "rf.fit(X_train, y_train)\n"
   ]
  },
  {
   "cell_type": "code",
   "execution_count": 19,
   "metadata": {},
   "outputs": [
    {
     "name": "stdout",
     "output_type": "stream",
     "text": [
      "(39, 18)\n",
      "[False]\n",
      "[False False  True  True  True False False False False]\n"
     ]
    }
   ],
   "source": [
    "print(X_test.shape)\n",
    "print(rf.predict(X_test.iloc[1:2]))\n",
    "print(rf.predict(X_test.iloc[1:10]))"
   ]
  },
  {
   "cell_type": "markdown",
   "metadata": {
    "cell_id": "0b561307a3cb48ddadfe00f226bbd78c",
    "deepnote_cell_height": 94,
    "deepnote_cell_type": "markdown",
    "tags": []
   },
   "source": [
    "### b) marginal sampling based SHAP value function"
   ]
  },
  {
   "cell_type": "code",
   "execution_count": 28,
   "metadata": {
    "cell_id": "f3558e0ea96f44b6af2e3fcab96f0987",
    "deepnote_cell_height": 207,
    "deepnote_cell_type": "code",
    "deepnote_to_be_reexecuted": false,
    "execution_millis": 5,
    "execution_start": 1653982376132,
    "source_hash": "d156231c",
    "tags": []
   },
   "outputs": [],
   "source": [
    "def m_vfunc(J, obs, X, predict, nr_samples=100):\n",
    "    remainder = set(X.columns) - set(J)\n",
    "    X_tmp = X.sample(nr_samples, replace=True).copy()\n",
    "    obs_df = pd.DataFrame(obs).T.sample(nr_samples, replace=True)\n",
    "    obs_df = obs_df.reset_index(drop=True)\n",
    "    X_tmp.loc[:, J] = np.array(obs_df.loc[:, J].copy())\n",
    "    pred = predict(X_tmp)\n",
    "    return np.mean(pred)"
   ]
  },
  {
   "cell_type": "code",
   "execution_count": 30,
   "metadata": {
    "cell_id": "61559a9b782b41c48d9daa2c4a4ff8cd",
    "deepnote_cell_height": 118,
    "deepnote_cell_type": "code",
    "deepnote_output_heights": [
     21
    ],
    "deepnote_to_be_reexecuted": false,
    "execution_millis": 5350,
    "execution_start": 1653982376144,
    "source_hash": "58fcb0d7",
    "tags": []
   },
   "outputs": [
    {
     "data": {
      "text/plain": [
       "-0.0167"
      ]
     },
     "execution_count": 30,
     "metadata": {},
     "output_type": "execute_result"
    }
   ],
   "source": [
    "shapley_perm(X_test.columns[0], X_test.columns, m_vfunc, X_test.iloc[0,:], X_test, rf.predict)"
   ]
  },
  {
   "cell_type": "markdown",
   "metadata": {
    "cell_id": "6a53ba848d4f44ee856e8806831977c3",
    "deepnote_cell_height": 62,
    "deepnote_cell_type": "markdown",
    "tags": []
   },
   "source": [
    "### c)"
   ]
  },
  {
   "cell_type": "code",
   "execution_count": 31,
   "metadata": {
    "cell_id": "7445bc721b3d4dd999a6b4aec4a0b4ac",
    "deepnote_cell_height": 675,
    "deepnote_cell_type": "code",
    "deepnote_to_be_reexecuted": false,
    "execution_millis": 681,
    "execution_start": 1653983673865,
    "source_hash": "51b25ece",
    "tags": []
   },
   "outputs": [],
   "source": [
    "from scipy.special import comb\n",
    "from sklearn.linear_model import LinearRegression\n",
    "import pandas as pd\n",
    "\n",
    "def shap_weights(mask):\n",
    "    p = mask.shape[1]\n",
    "    zs = np.sum(mask, axis=1)\n",
    "    nominator = (p - 1)\n",
    "    denominator = comb(p, zs) * zs * (p - zs)\n",
    "    return nominator / denominator\n",
    "    \n",
    "def replace_dataset(obs, X, nr_samples):\n",
    "    X_new = np.array(X.sample(nr_samples, replace=True))\n",
    "    obs_rep = np.repeat(np.array(obs).reshape(-1, 1), X_new.shape[0], axis=1).T\n",
    "    mask = np.random.binomial(1, 0.5, np.prod(X_new.shape)).reshape(X_new.shape)\n",
    "    row_ixs, col_ixs = np.where(mask)\n",
    "    X_new[row_ixs, col_ixs] = obs_rep[row_ixs, col_ixs]\n",
    "    X_new = pd.DataFrame(X_new, columns=X.columns)\n",
    "    return X_new, mask\n",
    "\n",
    "def shap_data(obs, X, nr_samples, predict):\n",
    "    X_new, mask = replace_dataset(obs, X, nr_samples)\n",
    "    weight = shap_weights(mask)\n",
    "    pred = predict(X_new)\n",
    "    return mask, pred, weight\n",
    "\n",
    "def kernel_shap(obs, X, nr_samples, predict):\n",
    "    mask, pred, weight = shap_data(obs, X, nr_samples, predict)\n",
    "    lm = LinearRegression()\n",
    "    lm.fit(mask, pred, weight)\n",
    "    coef = lm.coef_\n",
    "    coef = pd.Series(coef, index=X.columns)\n",
    "    coef['intercept'] = lm.intercept_\n",
    "    return coef"
   ]
  },
  {
   "cell_type": "markdown",
   "metadata": {
    "cell_id": "bfd7fdb38ac54c3fa46b7afa6a5f3a49",
    "deepnote_cell_height": 62,
    "deepnote_cell_type": "markdown",
    "tags": []
   },
   "source": [
    "### d)"
   ]
  },
  {
   "cell_type": "code",
   "execution_count": 34,
   "metadata": {
    "cell_id": "0c74fddab9b04b6e9d8bd8f7858ed4bd",
    "deepnote_cell_height": 117,
    "deepnote_cell_type": "code",
    "deepnote_to_be_reexecuted": false,
    "execution_millis": 227,
    "execution_start": 1653982381526,
    "source_hash": "8e4a1556",
    "tags": []
   },
   "outputs": [
    {
     "name": "stdout",
     "output_type": "stream",
     "text": [
      "Goal Scored               0.058012\n",
      "Ball Possession %        -0.031624\n",
      "Attempts                 -0.056860\n",
      "On-Target                 0.002838\n",
      "Off-Target                0.020572\n",
      "Blocked                  -0.009944\n",
      "Corners                  -0.067219\n",
      "Offsides                  0.026846\n",
      "Free Kicks               -0.027515\n",
      "Saves                    -0.008368\n",
      "Pass Accuracy %          -0.000142\n",
      "Passes                   -0.067944\n",
      "Distance Covered (Kms)    0.016557\n",
      "Fouls Committed           0.032500\n",
      "Yellow Card               0.042642\n",
      "Yellow & Red             -0.056101\n",
      "Red                      -0.009925\n",
      "Goals in PSO              0.024113\n",
      "intercept                 0.502887\n",
      "dtype: float64\n"
     ]
    }
   ],
   "source": [
    "predict = lambda x : rf.predict_proba(x)[:, 1]\n",
    "\n",
    "shap_vals = kernel_shap(X_test.iloc[0, :], X, 1000, predict)\n",
    "print(shap_vals)"
   ]
  },
  {
   "cell_type": "markdown",
   "metadata": {
    "cell_id": "773174dbcdf8484ba21441ca629e0322",
    "deepnote_cell_height": 62,
    "deepnote_cell_type": "markdown",
    "tags": []
   },
   "source": [
    "### e)"
   ]
  },
  {
   "cell_type": "markdown",
   "metadata": {
    "cell_id": "9a50114ae6154b39955fcf3475a73d8f",
    "deepnote_cell_height": 119.60000610351562,
    "deepnote_cell_type": "markdown",
    "tags": []
   },
   "source": [
    "`SHAP` values are expensive to compute. `TreeSHAP` offers a more efficient implementation that exploits the structure of tree-based models. Advanced knowledge: A further advantage of TreeSHAP is that it resamples the variables such that the joint distribution is preserved."
   ]
  },
  {
   "cell_type": "code",
   "execution_count": 15,
   "metadata": {
    "cell_id": "0bb0d82429614a6f80cf8fc39f022362",
    "deepnote_cell_height": 236.39999389648438,
    "deepnote_cell_type": "code",
    "deepnote_output_heights": [
     null,
     2
    ],
    "deepnote_to_be_reexecuted": false,
    "execution_millis": 3486,
    "execution_start": 1653982381775,
    "source_hash": "adec9363",
    "tags": []
   },
   "outputs": [
    {
     "name": "stderr",
     "output_type": "stream",
     "text": [
      "/home/coco/anaconda3/envs/devel/lib/python3.12/site-packages/tqdm/auto.py:21: TqdmWarning: IProgress not found. Please update jupyter and ipywidgets. See https://ipywidgets.readthedocs.io/en/stable/user_install.html\n",
      "  from .autonotebook import tqdm as notebook_tqdm\n"
     ]
    },
    {
     "data": {
      "image/png": "[encoded data removed]",
      "text/plain": [
       "<Figure size 800x650 with 3 Axes>"
      ]
     },
     "metadata": {},
     "output_type": "display_data"
    }
   ],
   "source": [
    "import shap\n",
    "\n",
    "explainer = shap.TreeExplainer(rf, feature_perturbation='tree_path_dependent')\n",
    "shap_values = explainer(X_test)\n",
    "shap.plots.waterfall(shap_values[0][:, 0])"
   ]
  },
  {
   "cell_type": "markdown",
   "metadata": {
    "cell_id": "0fec46947d47453393fef606e737d0d7",
    "deepnote_cell_height": 97.19999694824219,
    "deepnote_cell_type": "markdown",
    "tags": []
   },
   "source": [
    "Distance covered had a strong positive effect on the predicted probability, whereas the number of free kicks, the number of off-target shots and the number of goals had a negative effect. "
   ]
  },
  {
   "cell_type": "markdown",
   "metadata": {
    "cell_id": "17028444881a457c97cb5c76fd4c0f1d",
    "deepnote_cell_height": 70,
    "deepnote_cell_type": "markdown",
    "tags": []
   },
   "source": [
    "## Exercise 3: Lime"
   ]
  },
  {
   "cell_type": "code",
   "execution_count": null,
   "metadata": {},
   "outputs": [],
   "source": [
    "!pip install lime"
   ]
  },
  {
   "cell_type": "code",
   "execution_count": null,
   "metadata": {},
   "outputs": [],
   "source": [
    "import numpy as np\n",
    "%matplotlib inline"
   ]
  },
  {
   "cell_type": "code",
   "execution_count": null,
   "metadata": {},
   "outputs": [],
   "source": [
    "np.random.seed(123456)"
   ]
  },
  {
   "cell_type": "markdown",
   "metadata": {
    "cell_id": "86aa34f745234f29a95c2752b76bfc4f",
    "deepnote_cell_height": 62,
    "deepnote_cell_type": "markdown",
    "tags": []
   },
   "source": [
    "### a)"
   ]
  },
  {
   "cell_type": "code",
   "execution_count": null,
   "metadata": {
    "cell_id": "eb561d0dad9d4a1996afce626d919a14",
    "deepnote_cell_height": 604,
    "deepnote_cell_type": "code",
    "deepnote_output_heights": [
     null,
     335
    ],
    "deepnote_to_be_reexecuted": false,
    "execution_millis": 12718,
    "execution_start": 1653982385275,
    "source_hash": "ab99848d",
    "tags": []
   },
   "outputs": [],
   "source": [
    "import lime.lime_tabular\n",
    "import lime\n",
    "\n",
    "explainer = lime.lime_tabular.LimeTabularExplainer(np.array(X_test), feature_names=X.columns, class_names=rf.classes_)\n",
    "\n",
    "exp = explainer.explain_instance(np.array(X_test.iloc[0, :]), rf.predict_proba, num_features=5, top_labels=1,\n",
    "                                 distance_metric='l2')\n",
    "exp.show_in_notebook(show_table=True, show_all=False)"
   ]
  },
  {
   "cell_type": "markdown",
   "metadata": {
    "cell_id": "f73d6c692aff454c824ee9f7ca22a965",
    "deepnote_cell_height": 62,
    "deepnote_cell_type": "markdown",
    "tags": []
   },
   "source": [
    "### b)"
   ]
  },
  {
   "cell_type": "code",
   "execution_count": null,
   "metadata": {
    "cell_id": "5a6bf77f92e34c51a93aaf9173f7b670",
    "deepnote_cell_height": 567.7000122070312,
    "deepnote_cell_type": "code",
    "deepnote_output_heights": [
     null,
     335
    ],
    "deepnote_to_be_reexecuted": false,
    "execution_millis": 12370,
    "execution_start": 1653982397938,
    "source_hash": "4cb9b350",
    "tags": []
   },
   "outputs": [],
   "source": [
    "explainer = lime.lime_tabular.LimeTabularExplainer(np.array(X_test), feature_names=X.columns,\n",
    "                                                   class_names=rf.classes_, kernel_width=3.0)\n",
    "\n",
    "exp = explainer.explain_instance(np.array(X_test.iloc[0, :]), rf.predict_proba, num_features=5, top_labels=1,\n",
    "                                 distance_metric='l1')\n",
    "exp.show_in_notebook(show_table=True, show_all=False)"
   ]
  },
  {
   "cell_type": "markdown",
   "metadata": {
    "cell_id": "9f5478ee1f254be3af434afeefd030ef",
    "deepnote_cell_height": 52.399993896484375,
    "deepnote_cell_type": "markdown",
    "tags": []
   },
   "source": [
    "The results depend on the used metric to define the neighborhood."
   ]
  },
  {
   "cell_type": "markdown",
   "metadata": {
    "cell_id": "6d90e0011d2248dc924ae8b6e6bc50b8",
    "deepnote_cell_height": 212.39999389648438,
    "deepnote_cell_type": "markdown",
    "owner_user_id": "7a4dd9ac-3344-4434-b7bc-914577d87e19",
    "tags": []
   },
   "source": [
    "### c)\n",
    "\n",
    "Both SHAP and Lime rely on a linear model approximation of the model. For lime, the normal feature values are used, for SHAP a transformed distribution indicating coalition membership for a sample is relied upon. Lime weights the different samples according to their distance to the observation of interest. In contrast, SHAP weights them according to the shapley kernel weights (which simulate sampling random permutations)."
   ]
  },
  {
   "cell_type": "markdown",
   "metadata": {
    "created_in_deepnote_cell": true,
    "deepnote_cell_type": "markdown",
    "tags": []
   },
   "source": [
    "<a style='text-decoration:none;line-height:16px;display:flex;color:#5B5B62;padding:10px;justify-content:end;' href='https://deepnote.com?utm_source=created-in-deepnote-cell&projectId=465b8883-1966-407a-bc10-026a1a84551f' target=\"_blank\">\n",
    "<img alt='Created in deepnote.com' style='display:inline;max-height:16px;margin:0px;margin-right:7.5px;' src='data:image/svg+xml;base64,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' > </img>\n",
    "Created in <span style='font-weight:600;margin-left:4px;'>Deepnote</span></a>"
   ]
  }
 ],
 "metadata": {
  "deepnote": {
   "is_reactive": false
  },
  "deepnote_execution_queue": [],
  "deepnote_notebook_id": "b9986af9-59af-45ff-bb59-a148b8eb8f80",
  "kernelspec": {
   "display_name": "Python 3 (ipykernel)",
   "language": "python",
   "name": "python3"
  },
  "language_info": {
   "codemirror_mode": {
    "name": "ipython",
    "version": 3
   },
   "file_extension": ".py",
   "mimetype": "text/x-python",
   "name": "python",
   "nbconvert_exporter": "python",
   "pygments_lexer": "ipython3",
   "version": "3.12.11"
  }
 },
 "nbformat": 4,
 "nbformat_minor": 4
}
