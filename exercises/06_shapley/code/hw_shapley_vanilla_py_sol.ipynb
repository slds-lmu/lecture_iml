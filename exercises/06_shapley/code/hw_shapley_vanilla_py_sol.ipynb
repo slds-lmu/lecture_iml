{
 "cells": [
  {
   "cell_type": "markdown",
   "metadata": {
    "cell_id": "69ca2dc3-2eb6-4cfa-8ae0-9e503dd4c6d3",
    "deepnote_cell_height": 82,
    "deepnote_cell_type": "markdown",
    "tags": []
   },
   "source": [
    "# Exercise Sheet 8"
   ]
  },
  {
   "cell_type": "markdown",
   "metadata": {
    "cell_id": "9a28e284-a010-43aa-8ec8-cfc2f834077b",
    "deepnote_cell_height": 70,
    "deepnote_cell_type": "markdown",
    "tags": []
   },
   "source": [
    "## Exercise 1: Shapley Values"
   ]
  },
  {
   "cell_type": "code",
   "execution_count": 1,
   "metadata": {},
   "outputs": [],
   "source": [
    "import numpy as np\n",
    "import math\n",
    "import itertools"
   ]
  },
  {
   "cell_type": "code",
   "execution_count": 2,
   "metadata": {},
   "outputs": [],
   "source": [
    "np.random.seed(123456)"
   ]
  },
  {
   "cell_type": "markdown",
   "metadata": {},
   "source": [
    "## a)"
   ]
  },
  {
   "cell_type": "code",
   "execution_count": 3,
   "metadata": {
    "cell_id": "0a17b0ff-62d5-43e7-b113-2301c83d4973",
    "deepnote_cell_height": 225,
    "deepnote_cell_type": "code",
    "deepnote_to_be_reexecuted": false,
    "execution_millis": 11,
    "execution_start": 1653982371149,
    "source_hash": "fcdcf697",
    "tags": []
   },
   "outputs": [],
   "source": [
    "def payoff(coalition):\n",
    "    # Define boolean variables that indicate whether Timnit, Margret, Samy, Jeff and Larry are in the set or not.\n",
    "    t = 't' in coalition\n",
    "    s = 's' in coalition\n",
    "    m = 'm' in coalition\n",
    "    j = 'j' in coalition\n",
    "    l = 'l' in coalition\n",
    "    return 10*t + 10*m + 10*s + 2*j + 20 * (t and m) + 20 * (t and m and s) - 30 * ((t or m or s) and j)"
   ]
  },
  {
   "cell_type": "code",
   "execution_count": 4,
   "metadata": {
    "cell_id": "455c6edaaf6545d293282935f3774da4",
    "deepnote_cell_height": 81,
    "deepnote_cell_type": "code",
    "deepnote_to_be_reexecuted": false,
    "execution_millis": 135853906,
    "execution_start": 1653982371165,
    "source_hash": "c00c6920",
    "tags": []
   },
   "outputs": [
    {
     "name": "stdout",
     "output_type": "stream",
     "text": [
      "40\n",
      "-8\n",
      "0\n",
      "42\n"
     ]
    }
   ],
   "source": [
    "# Testing\n",
    "population = ['j', 'l', 'm', 's', 't']\n",
    "print(payoff(('t','m')))\n",
    "print(payoff(['t','j','s']))\n",
    "print(payoff([]))\n",
    "print(payoff(population))"
   ]
  },
  {
   "cell_type": "markdown",
   "metadata": {},
   "source": [
    "## b)"
   ]
  },
  {
   "cell_type": "code",
   "execution_count": 5,
   "metadata": {
    "cell_id": "50ceda71-b7aa-40a0-9968-0b2d07d660ca",
    "deepnote_cell_height": 549,
    "deepnote_cell_type": "code",
    "deepnote_to_be_reexecuted": false,
    "execution_millis": 84,
    "execution_start": 1653982371173,
    "source_hash": "171fe7ee",
    "tags": []
   },
   "outputs": [],
   "source": [
    "def all_unique_subsets(population):\n",
    "    if not population:\n",
    "        return [[]]\n",
    "    else:\n",
    "        population = list(set(population)) # remove double elements\n",
    "        subsets_wo_member = all_unique_subsets(population[1:])\n",
    "        subsets_w_member = [s + [population[0]] for s in subsets_wo_member]\n",
    "        return subsets_w_member + subsets_wo_member"
   ]
  },
  {
   "cell_type": "code",
   "execution_count": 6,
   "metadata": {},
   "outputs": [],
   "source": [
    "# Official solution: https://docs.python.org/2/library/itertools.html#recipes\n",
    "# def all_unique_subsets(population):\n",
    "#    population = list(set(population))\n",
    "#    power_set = list(itertools.chain.from_iterable(itertools.combinations(population, r) for r in range(len(population)+1)))\n",
    "#    return [list(subset) for subset in power_set]"
   ]
  },
  {
   "cell_type": "code",
   "execution_count": 7,
   "metadata": {},
   "outputs": [
    {
     "name": "stdout",
     "output_type": "stream",
     "text": [
      "[[]]\n",
      "[['t'], []]\n",
      "[['t', 'l', 'j', 'm', 's'], ['l', 'j', 'm', 's'], ['t', 'j', 'm', 's'], ['j', 'm', 's'], ['t', 'l', 'm', 's'], ['l', 'm', 's'], ['t', 'm', 's'], ['m', 's'], ['t', 'l', 'j', 's'], ['l', 'j', 's'], ['t', 'j', 's'], ['j', 's'], ['t', 'l', 's'], ['l', 's'], ['t', 's'], ['s'], ['t', 'l', 'j', 'm'], ['l', 'j', 'm'], ['t', 'j', 'm'], ['j', 'm'], ['t', 'l', 'm'], ['l', 'm'], ['t', 'm'], ['m'], ['t', 'l', 'j'], ['l', 'j'], ['t', 'j'], ['j'], ['t', 'l'], ['l'], ['t'], []]\n"
     ]
    }
   ],
   "source": [
    "# Testing\n",
    "print(all_unique_subsets([]))\n",
    "print(all_unique_subsets(['t']))\n",
    "print(all_unique_subsets(population))"
   ]
  },
  {
   "cell_type": "code",
   "execution_count": 8,
   "metadata": {},
   "outputs": [],
   "source": [
    "def shapley_set(member, population, v_function=payoff, *args):\n",
    "    population = list(set(population)) # remove double elements\n",
    "    remainder = population[:] # copy\n",
    "    remainder.remove(member)\n",
    "    all_coalitions_without_member = all_unique_subsets(remainder)\n",
    "    result = 0\n",
    "    F = len(population)\n",
    "    for coalition in all_coalitions_without_member:\n",
    "        S = len(coalition)\n",
    "        diff = v_function(coalition + [member], *args) - v_function(coalition, *args)\n",
    "        factor = math.factorial(S) * math.factorial(F-S-1) / math.factorial(F)\n",
    "        result += factor * diff\n",
    "    return result"
   ]
  },
  {
   "cell_type": "code",
   "execution_count": 9,
   "metadata": {
    "cell_id": "2339fdec-95bf-43d1-bb22-76d438817da5",
    "deepnote_cell_height": 118,
    "deepnote_cell_type": "code",
    "deepnote_output_heights": [
     21
    ],
    "deepnote_to_be_reexecuted": false,
    "execution_millis": 223,
    "execution_start": 1653982371263,
    "source_hash": "235a6a90",
    "tags": []
   },
   "outputs": [],
   "source": [
    "# Testing and Sanity Check\n",
    "def all_shapley_values(population, shapley_fct, v_function=payoff, *args):\n",
    "    return {member:shapley_fct(member, population, v_function, *args) for member in population}\n",
    "\n",
    "def shapley_test(population, shapley_fct, v_function=payoff, *args):\n",
    "    shapley_values=all_shapley_values(population, shapley_fct, v_function, *args)\n",
    "    print(\"\\n\".join(f\"Player {player}: {shapley_values[player]}\" for player in shapley_values))\n",
    "    sum_ = sum(shapley_values.values())\n",
    "    print(sum_)\n",
    "    print(v_function(population, *args))\n",
    "    print(math.isclose(sum_, v_function(population, *args))) # efficiency axiom"
   ]
  },
  {
   "cell_type": "code",
   "execution_count": 10,
   "metadata": {},
   "outputs": [
    {
     "name": "stdout",
     "output_type": "stream",
     "text": [
      "Player j: -20.5\n",
      "Player l: 0.0\n",
      "Player m: 24.166666666666668\n",
      "Player s: 14.16666666666667\n",
      "Player t: 24.166666666666664\n",
      "42.0\n",
      "42\n",
      "True\n"
     ]
    }
   ],
   "source": [
    "shapley_test(population, shapley_set)"
   ]
  },
  {
   "cell_type": "markdown",
   "metadata": {},
   "source": [
    "### Definition of a few useful functions"
   ]
  },
  {
   "cell_type": "code",
   "execution_count": 11,
   "metadata": {},
   "outputs": [],
   "source": [
    "def all_coalitions_without_members(members, population):\n",
    "    population_without_members = population.copy()\n",
    "    population_without_members.remove(members)\n",
    "    return all_unique_subsets(population_without_members)\n",
    "\n",
    "def payoff_diff(member, coalition, v_function=payoff, *args):\n",
    "    return v_function(coalition + [member], *args) - v_function(coalition, *args)\n",
    "\n",
    "def payoff_diff_list(member, coalitions, v_function=payoff, *args):\n",
    "    return np.asarray([payoff_diff(member, coalition, v_function, *args) for coalition in coalitions])"
   ]
  },
  {
   "cell_type": "code",
   "execution_count": 12,
   "metadata": {},
   "outputs": [],
   "source": [
    "def shapley_set_2(member, population, v_function=payoff, *args):\n",
    "    population = list(set(population)) # remove double elements\n",
    "    all_coalitions_without_member = all_coalitions_without_members(member, population)\n",
    "\n",
    "    payoff_diffs = payoff_diff_list(member, all_coalitions_without_member, v_function, *args)\n",
    "\n",
    "    F = len(population)\n",
    "    weights = np.asarray([math.factorial(len(coalition)) * math.factorial(F - len(coalition) - 1) / math.factorial(F)\n",
    "                          for coalition in all_coalitions_without_member])\n",
    "    return np.sum(weights*payoff_diffs)"
   ]
  },
  {
   "cell_type": "code",
   "execution_count": 13,
   "metadata": {},
   "outputs": [
    {
     "name": "stdout",
     "output_type": "stream",
     "text": [
      "Player j: -20.5\n",
      "Player l: 0.0\n",
      "Player m: 24.166666666666664\n",
      "Player s: 14.166666666666666\n",
      "Player t: 24.166666666666668\n",
      "42.0\n",
      "42\n",
      "True\n"
     ]
    }
   ],
   "source": [
    "# Testing and Sanity Check\n",
    "shapley_test(population, shapley_set_2)"
   ]
  },
  {
   "cell_type": "markdown",
   "metadata": {
    "cell_id": "b83f1993-d740-401a-a132-5f80d0637239",
    "deepnote_cell_height": 70,
    "deepnote_cell_type": "markdown",
    "tags": []
   },
   "source": [
    "## c)"
   ]
  },
  {
   "cell_type": "code",
   "execution_count": 14,
   "metadata": {
    "cell_id": "bd67d175-094f-4139-9431-9171fe96943b",
    "deepnote_cell_height": 243,
    "deepnote_cell_type": "code",
    "deepnote_to_be_reexecuted": false,
    "execution_millis": 9,
    "execution_start": 1653982371283,
    "source_hash": "b48d53d9",
    "tags": []
   },
   "outputs": [],
   "source": [
    "def shapley_perm(member, population, v_function=payoff, *args):\n",
    "    # Note that itertools.permutations returns tuples, which need to be converted to lists first\n",
    "    # permutation.index(member) returns the index of member in the permutation, therfore\n",
    "    # permutation[:permutation.index(member)] is exactly the permutation before this member\n",
    "    coalitions = [permutation[:permutation.index(member)] for permutation in itertools.permutations(population)]\n",
    "    return np.mean([payoff_diff(member, list(coalition), v_function, *args) for coalition in coalitions])"
   ]
  },
  {
   "cell_type": "code",
   "execution_count": 15,
   "metadata": {
    "cell_id": "82cc9926-50a2-4a80-9596-def7928e887f",
    "deepnote_cell_height": 118,
    "deepnote_cell_type": "code",
    "deepnote_output_heights": [
     21
    ],
    "deepnote_to_be_reexecuted": false,
    "execution_millis": 1814,
    "execution_start": 1653982371298,
    "source_hash": "e56b7951",
    "tags": []
   },
   "outputs": [
    {
     "name": "stdout",
     "output_type": "stream",
     "text": [
      "Player j: -20.5\n",
      "Player l: 0.0\n",
      "Player m: 24.166666666666668\n",
      "Player s: 14.166666666666666\n",
      "Player t: 24.166666666666668\n",
      "42.0\n",
      "42\n",
      "True\n"
     ]
    }
   ],
   "source": [
    "# Testing and Sanity Check\n",
    "shapley_test(population, shapley_perm)"
   ]
  },
  {
   "cell_type": "markdown",
   "metadata": {
    "cell_id": "b83f1993-d740-401a-a132-5f80d0637239",
    "deepnote_cell_height": 70,
    "deepnote_cell_type": "markdown",
    "tags": []
   },
   "source": [
    "## d)"
   ]
  },
  {
   "cell_type": "code",
   "execution_count": 16,
   "metadata": {
    "cell_id": "bd67d175-094f-4139-9431-9171fe96943b",
    "deepnote_cell_height": 243,
    "deepnote_cell_type": "code",
    "deepnote_to_be_reexecuted": false,
    "execution_millis": 9,
    "execution_start": 1653982371283,
    "source_hash": "b48d53d9",
    "tags": []
   },
   "outputs": [],
   "source": [
    "def shapley_perm_approx(member, population, v_function=payoff, *args, its=100):\n",
    "    vals = []\n",
    "    rng = np.random.default_rng()\n",
    "    for i in range(its):\n",
    "        permutation = list(rng.permutation(population))\n",
    "        coalition = permutation[:permutation.index(member)]\n",
    "        vals.append(payoff_diff(member, coalition, v_function, *args))\n",
    "    return np.mean(vals)"
   ]
  },
  {
   "cell_type": "code",
   "execution_count": 17,
   "metadata": {
    "cell_id": "82cc9926-50a2-4a80-9596-def7928e887f",
    "deepnote_cell_height": 118,
    "deepnote_cell_type": "code",
    "deepnote_output_heights": [
     21
    ],
    "deepnote_to_be_reexecuted": false,
    "execution_millis": 1814,
    "execution_start": 1653982371298,
    "scrolled": true,
    "source_hash": "e56b7951",
    "tags": []
   },
   "outputs": [
    {
     "name": "stdout",
     "output_type": "stream",
     "text": [
      "24.57\n",
      "24.036\n",
      "24.0476\n",
      "24.17616\n",
      "Player j: -21.7\n",
      "Player l: 0.0\n",
      "Player m: 26.4\n",
      "Player s: 14.8\n",
      "Player t: 23.8\n",
      "43.3\n",
      "42\n",
      "False\n",
      "Player j: -20.4538\n",
      "Player l: 0.0\n",
      "Player m: 24.1379\n",
      "Player s: 14.0591\n",
      "Player t: 24.1913\n",
      "41.9345\n",
      "42\n",
      "False\n"
     ]
    }
   ],
   "source": [
    "# Testing\n",
    "for its in [1000, 10000, 10**5, 10**6]:\n",
    "    print(shapley_perm_approx('t', population, its=its))\n",
    "shapley_test(population, shapley_perm_approx)\n",
    "shapley_test(population, lambda *args: shapley_perm_approx(*args, its=100000))"
   ]
  },
  {
   "cell_type": "markdown",
   "metadata": {},
   "source": [
    "Clear convergence is apparent, but it is not very fast, although with 100000 iterations we already get quite a good approximation.\n",
    "\n",
    "The exact numbers here depend of course on the specific parameters, the seed etc ..."
   ]
  },
  {
   "cell_type": "markdown",
   "metadata": {
    "cell_id": "3869d642ec5d49a4aa07490807896deb",
    "deepnote_cell_height": 70,
    "deepnote_cell_type": "markdown",
    "tags": []
   },
   "source": [
    "## e) "
   ]
  },
  {
   "cell_type": "markdown",
   "metadata": {
    "cell_id": "3e39ddec6df1412497cf40ec68304e0e",
    "deepnote_cell_height": 62,
    "deepnote_cell_type": "markdown",
    "tags": []
   },
   "source": [
    "### i) Symmetry Check"
   ]
  },
  {
   "cell_type": "code",
   "execution_count": 18,
   "metadata": {
    "cell_id": "055fef6e98b548459ace34ba9ba5afdf",
    "deepnote_cell_height": 423,
    "deepnote_cell_type": "code",
    "deepnote_to_be_reexecuted": false,
    "execution_millis": 9,
    "execution_start": 1653982373121,
    "source_hash": "cbb373c7",
    "tags": []
   },
   "outputs": [],
   "source": [
    "def symmetry_check(j, k, population, shapley_func, v_function, *args):\n",
    "    remainder = set(population) - set([j, k])\n",
    "    all_S = all_unique_subsets(remainder)\n",
    "    surpluss_j = []\n",
    "    surpluss_k = []\n",
    "    for S in all_S:\n",
    "        surplus_j = v_function(S + [j], *args) - v_function(S, *args)\n",
    "        surplus_k = v_function(S + [k], *args) - v_function(S, *args)\n",
    "        surpluss_j.append(surplus_j)\n",
    "        surpluss_k.append(surplus_k)\n",
    "    surpluss_j, surpluss_k = np.array(surpluss_j), np.array(surpluss_k)\n",
    "    equal_surplus = np.all(surpluss_j == surpluss_k)\n",
    "    if equal_surplus:\n",
    "        print('equal surplus')\n",
    "        val_j = shapley_func(j, population, v_function, *args)\n",
    "        val_k = shapley_func(k, population, v_function, *args)\n",
    "        return val_j == val_k\n",
    "    else:\n",
    "        return True\n"
   ]
  },
  {
   "cell_type": "code",
   "execution_count": 19,
   "metadata": {
    "cell_id": "d552002d9a6f4f75b777a96841136bd8",
    "deepnote_cell_height": 163.6999969482422,
    "deepnote_cell_type": "code",
    "deepnote_output_heights": [
     null,
     21
    ],
    "deepnote_to_be_reexecuted": false,
    "execution_millis": 1,
    "execution_start": 1653982373142,
    "source_hash": "6713a8cf",
    "tags": []
   },
   "outputs": [
    {
     "name": "stdout",
     "output_type": "stream",
     "text": [
      "equal surplus\n"
     ]
    },
    {
     "data": {
      "text/plain": [
       "np.False_"
      ]
     },
     "execution_count": 19,
     "metadata": {},
     "output_type": "execute_result"
    }
   ],
   "source": [
    "symmetry_check('m', 't', population, shapley_set_2, payoff)"
   ]
  },
  {
   "cell_type": "markdown",
   "metadata": {
    "cell_id": "e1bd65f74ad24d9abbb0a3fdb64cd014",
    "deepnote_cell_height": 62,
    "deepnote_cell_type": "markdown",
    "tags": []
   },
   "source": [
    "### ii) Dummy property check"
   ]
  },
  {
   "cell_type": "code",
   "execution_count": 20,
   "metadata": {
    "cell_id": "7a6cfdf6a3284fe09619e86159b6a1d7",
    "deepnote_cell_height": 315,
    "deepnote_cell_type": "code",
    "deepnote_to_be_reexecuted": false,
    "execution_millis": 4,
    "execution_start": 1653982373156,
    "source_hash": "68e607d7",
    "tags": []
   },
   "outputs": [],
   "source": [
    "def dummy_check(j, population, shapley_func, v_function, *args):\n",
    "    remainder = set(population) - set([j])\n",
    "    all_S = all_unique_subsets(remainder)\n",
    "    surpluss_j = []\n",
    "    for S in all_S:\n",
    "        surplus_j = v_function(S + [j], *args) - v_function(S, *args)\n",
    "        surpluss_j.append(surplus_j)\n",
    "    has_contribution = np.sum(np.abs(surpluss_j)) > 0\n",
    "    if has_contribution:\n",
    "        print('has contribution')\n",
    "        val_j = shapley_func(j, population, v_function, *args)\n",
    "        return val_j > 0\n",
    "    else:\n",
    "        return True"
   ]
  },
  {
   "cell_type": "code",
   "execution_count": 21,
   "metadata": {
    "cell_id": "2f8802d0febb44b6a3bfa8299d51aefc",
    "deepnote_cell_height": 118,
    "deepnote_cell_type": "code",
    "deepnote_output_heights": [
     21
    ],
    "deepnote_to_be_reexecuted": false,
    "execution_millis": 3,
    "execution_start": 1653982373162,
    "source_hash": "7b1e4bf9",
    "tags": []
   },
   "outputs": [
    {
     "data": {
      "text/plain": [
       "True"
      ]
     },
     "execution_count": 21,
     "metadata": {},
     "output_type": "execute_result"
    }
   ],
   "source": [
    "dummy_check('l', population, shapley_set_2, payoff)"
   ]
  },
  {
   "cell_type": "markdown",
   "metadata": {
    "cell_id": "1a9ac33ae9e44bd3aeecdf33682fe907",
    "deepnote_cell_height": 62,
    "deepnote_cell_type": "markdown",
    "tags": []
   },
   "source": [
    "### iii) Additivity check"
   ]
  },
  {
   "cell_type": "code",
   "execution_count": 22,
   "metadata": {
    "cell_id": "86ac8627e0d24635a9f06a4305367f93",
    "deepnote_cell_height": 207,
    "deepnote_cell_type": "code",
    "deepnote_to_be_reexecuted": false,
    "execution_millis": 135849284,
    "execution_start": 1653982373212,
    "source_hash": "8e028f56",
    "tags": []
   },
   "outputs": [],
   "source": [
    "def additivity_check(population, shapley_func, v_function1, v_function2, *args):\n",
    "    combined = lambda x : v_function1(x, *args) + v_function2(x, *args)\n",
    "    vals1 = np.array([shapley_func(j, population, v_function1, *args) for j in population])\n",
    "    vals2 = np.array([shapley_func(j, population, v_function2, *args) for j in population])\n",
    "    vals_comb = np.array([shapley_func(j, population, combined) for j in population])\n",
    "    vals_additive = vals1 + vals2\n",
    "    return np.all(vals_comb == vals_additive)\n"
   ]
  },
  {
   "cell_type": "code",
   "execution_count": 23,
   "metadata": {
    "cell_id": "02d3e746b996437684ffb31460f6b473",
    "deepnote_cell_height": 154,
    "deepnote_cell_type": "code",
    "deepnote_output_heights": [
     21
    ],
    "deepnote_to_be_reexecuted": false,
    "execution_millis": 2,
    "execution_start": 1653982373213,
    "source_hash": "d44a2e8e",
    "tags": []
   },
   "outputs": [
    {
     "data": {
      "text/plain": [
       "np.True_"
      ]
     },
     "execution_count": 23,
     "metadata": {},
     "output_type": "execute_result"
    }
   ],
   "source": [
    "payoff2 = payoff\n",
    "\n",
    "additivity_check(population, shapley_set_2, payoff, payoff2)"
   ]
  },
  {
   "cell_type": "markdown",
   "metadata": {
    "cell_id": "7219613527144258a3ada4efc41e81a0",
    "deepnote_cell_height": 62,
    "deepnote_cell_type": "markdown",
    "tags": []
   },
   "source": [
    "### iv): Efficiency check"
   ]
  },
  {
   "cell_type": "code",
   "execution_count": 24,
   "metadata": {
    "cell_id": "c0de7c8518a2484394841be598796937",
    "deepnote_cell_height": 171,
    "deepnote_cell_type": "code",
    "deepnote_to_be_reexecuted": false,
    "execution_millis": 0,
    "execution_start": 1653982373213,
    "source_hash": "7a8be57b",
    "tags": []
   },
   "outputs": [],
   "source": [
    "def efficiency_check(population, shapley_func, v_function, *args):\n",
    "    payoff_total = v_function(population, *args)\n",
    "    shapley_vals = [shapley_func(j, population, v_function, *args) for j in population]\n",
    "    total_shapley_vals = np.sum(shapley_vals)\n",
    "    pt, st = round(payoff_total, 5), round(total_shapley_vals, 5)\n",
    "    return pt == st"
   ]
  },
  {
   "cell_type": "code",
   "execution_count": 25,
   "metadata": {
    "cell_id": "1cc67e1a112d43ffb9ad2a954b0504b4",
    "deepnote_cell_height": 118,
    "deepnote_cell_type": "code",
    "deepnote_output_heights": [
     21
    ],
    "deepnote_to_be_reexecuted": false,
    "execution_millis": 15,
    "execution_start": 1653982373214,
    "source_hash": "ce5147d4",
    "tags": []
   },
   "outputs": [
    {
     "data": {
      "text/plain": [
       "np.True_"
      ]
     },
     "execution_count": 25,
     "metadata": {},
     "output_type": "execute_result"
    }
   ],
   "source": [
    "efficiency_check(population, shapley_set_2, payoff)"
   ]
  }
 ],
 "metadata": {
  "deepnote": {
   "is_reactive": false
  },
  "deepnote_execution_queue": [],
  "deepnote_notebook_id": "b9986af9-59af-45ff-bb59-a148b8eb8f80",
  "kernelspec": {
   "display_name": "Python 3 (ipykernel)",
   "language": "python",
   "name": "python3"
  },
  "language_info": {
   "codemirror_mode": {
    "name": "ipython",
    "version": 3
   },
   "file_extension": ".py",
   "mimetype": "text/x-python",
   "name": "python",
   "nbconvert_exporter": "python",
   "pygments_lexer": "ipython3",
   "version": "3.13.5"
  }
 },
 "nbformat": 4,
 "nbformat_minor": 4
}
