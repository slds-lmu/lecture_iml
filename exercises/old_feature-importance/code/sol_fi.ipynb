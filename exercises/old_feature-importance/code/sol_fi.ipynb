{
 "cells": [
  {
   "cell_type": "code",
   "execution_count": 79,
   "metadata": {
    "cell_id": "4b13da66-9988-4471-a20b-ca8771ec39ec",
    "deepnote_cell_height": 225,
    "deepnote_cell_type": "code",
    "deepnote_to_be_reexecuted": false,
    "execution_millis": 2694,
    "execution_start": 1652443854917,
    "source_hash": "fc65eead",
    "tags": []
   },
   "outputs": [
    {
     "name": "stdout",
     "output_type": "stream",
     "text": [
      "^C\n"
     ]
    }
   ],
   "source": [
    "# Install a conda package in the current Jupyter kernel\n",
    "import sys\n",
    "!conda install --yes --prefix {sys.prefix} multiprocess pytorch scikit-learn scipy numpy pandas matplotlib seaborn dill\n",
    "\n",
    "import numpy as np\n",
    "import pandas as pd\n",
    "import matplotlib.pyplot as plt\n",
    "import seaborn as sns\n",
    "import dill\n",
    "dill.settings['recurse'] = True # fixes multiprocess on Windows https://github.com/uqfoundation/pathos/issues/129#issuecomment-1100497122\n",
    "from sklearn.linear_model import LinearRegression\n",
    "from sklearn.model_selection import train_test_split\n",
    "from sklearn.metrics import mean_squared_error\n",
    "%matplotlib inline\n",
    "sns.set_style('whitegrid')\n"
   ]
  },
  {
   "cell_type": "markdown",
   "metadata": {
    "cell_id": "ce9a21a9-9cbc-439b-88bb-7b103aff8ec1",
    "deepnote_cell_height": 290,
    "deepnote_cell_type": "markdown",
    "deepnote_to_be_reexecuted": false,
    "execution_millis": 29,
    "execution_start": 1646742822974,
    "source_hash": "31b6837b",
    "tags": []
   },
   "source": [
    "# Exercise 1: Permutation Feature Importance Exercise"
   ]
  },
  {
   "cell_type": "markdown",
   "metadata": {
    "cell_id": "fe527c39-9cfa-4c9e-b7a7-e982a022bb5b",
    "deepnote_cell_height": 612.7999877929688,
    "deepnote_cell_type": "markdown",
    "tags": []
   },
   "source": [
    "### a) \n",
    "\n",
    "Permutation Feature Importance compares the performance of the model on the original data with the performance on perturbed data, where the dependence of the variable of interest (let's call it $x_j$) with the target $Y$ variable is broken.\n",
    "\n",
    "In order to break the dependence of $x_j$ with $y$, $x_j$ is replaced with a permuted version $\\tilde{x}_j$ which is independent of the target.\n",
    "\n",
    "However, by permuting the variable we do not only break the dependence with $y$, but also with all other covariates. As such, we may create unrealistic observations.\n",
    "\n",
    "For example, time of the year may be dependent with the highest temperature on a day. If we resample the variable time of the year independently of the temperature high, we may create observations where time of the year is winter and temperature high is 40 degrees celsius."
   ]
  },
  {
   "cell_type": "markdown",
   "metadata": {
    "cell_id": "d165c41f-b623-410f-a9fe-7522819de568",
    "deepnote_cell_height": 352.3999938964844,
    "deepnote_cell_type": "markdown",
    "tags": []
   },
   "source": [
    "### b)\n",
    "\n",
    "If a feature anyway independent of its covarites ($x_j \\perp x_{-j}$, then PFI does not extrapolate to unseen regions.\n",
    "\n",
    "Intuitively, the reason is that no dependence with the covariates is broken, since there were not dependencies between $x_j$ and the remaining variables $x_{-j}$ to begin with..\n",
    "\n",
    "We discuss the theoretical background of the issue in more detail in the in-class exercise."
   ]
  },
  {
   "cell_type": "markdown",
   "metadata": {
    "cell_id": "7fd8f68e-3fe9-416e-8943-753d6e91cd30",
    "deepnote_cell_height": 62,
    "deepnote_cell_type": "markdown",
    "tags": []
   },
   "source": [
    "### c)"
   ]
  },
  {
   "cell_type": "code",
   "execution_count": 81,
   "metadata": {
    "cell_id": "cf66951b-695b-4c34-af78-bf6d73026317",
    "deepnote_cell_height": 255.6999969482422,
    "deepnote_cell_type": "code",
    "deepnote_to_be_reexecuted": false,
    "execution_millis": 17,
    "execution_start": 1652432575005,
    "source_hash": "3b231b40",
    "tags": []
   },
   "outputs": [
    {
     "name": "stdout",
     "output_type": "stream",
     "text": [
      "MSE: 0.008025433757808715\n"
     ]
    }
   ],
   "source": [
    "df = pd.read_csv('extrapolation.csv', index_col=0)\n",
    "\n",
    "X, y = df[df.columns[df.columns != 'y']], df['y']\n",
    "X_train, X_test, y_train, y_test = train_test_split(X, y, train_size=0.7)\n",
    "\n",
    "model = LinearRegression()\n",
    "model.fit(X_train, y_train)\n",
    "\n",
    "print('MSE: {}'.format(mean_squared_error(model.predict(X_test), y_test)))"
   ]
  },
  {
   "cell_type": "markdown",
   "metadata": {
    "cell_id": "74b7e279-f290-41cb-ac41-01fb7853d052",
    "deepnote_cell_height": 70,
    "deepnote_cell_type": "markdown",
    "tags": []
   },
   "source": [
    "## d)\n",
    "\n"
   ]
  },
  {
   "cell_type": "markdown",
   "metadata": {
    "cell_id": "ddf63fd7-5fc1-4b6c-9283-d07c685325ec",
    "deepnote_cell_height": 142,
    "deepnote_cell_type": "markdown",
    "tags": []
   },
   "source": [
    "First, we implement PFI. Here we implement the methods generically, such that the perturbation mechanism can easily be replaced. Therefore, we make use of *args and **kwargs."
   ]
  },
  {
   "cell_type": "code",
   "execution_count": 82,
   "metadata": {
    "cell_id": "8e3034dc-7011-4600-9b84-88c5aa1827b5",
    "deepnote_cell_height": 1215,
    "deepnote_cell_type": "code",
    "deepnote_to_be_reexecuted": false,
    "execution_millis": 19,
    "execution_start": 1652432578816,
    "source_hash": "f4d61264",
    "tags": []
   },
   "outputs": [],
   "source": [
    "def pfi_fname(fname, predict, score, X_test, y_test, *args):\n",
    "    import numpy as np\n",
    "    \"\"\"Function that returns the pfi for a single feature.\n",
    "\n",
    "    Args:\n",
    "        fname: feature of interest name\n",
    "        predict: prediciton function\n",
    "        score: performance metric\n",
    "        X_test: data for the evaluation\n",
    "        y_test: respective labels\n",
    "        *args: further arguments (which are ignored)\n",
    "\n",
    "    Returns:\n",
    "        performance: performance metric\n",
    "    \"\"\"\n",
    "    X_test_perturbed = X_test.copy(deep=True)\n",
    "    X_test_perturbed[fname] = np.random.permutation(X_test_perturbed[fname])\n",
    "    performance = score(y_test, predict(X_test_perturbed)) - score(y_test, predict(X_test))\n",
    "    return performance\n",
    "\n",
    "def fi_naive(fi_fname, predict, score, X_test, y_test, *args, **kwargs):\n",
    "    import numpy as np\n",
    "    \"\"\"Naive feature importance implementation.\n",
    "\n",
    "    Args:\n",
    "        perf_pert: function that returns performance for some perturbation.\n",
    "        predict: prediction function\n",
    "        score: performance metric\n",
    "        X_test: test data for the evaluation\n",
    "        y_test: respective labels\n",
    "        *args: further arguments, e.g. training data (can be ignored here)\n",
    "\n",
    "    Returns:\n",
    "        results: relevance for each feature (in the order of X_test.columns)\n",
    "    \"\"\"\n",
    "    # compute performance under perturbation\n",
    "    results = []\n",
    "    for fname in X_test.columns:\n",
    "        imp = fi_fname(fname, predict, score, X_test, y_test, *args, **kwargs)\n",
    "        results.append(imp)\n",
    "    # compute pfi scores\n",
    "    results = np.array(results)\n",
    "    return results\n",
    "\n",
    "import multiprocess as mp\n",
    "\n",
    "def n_times(n, method, *args, return_raw=False, **kwargs):\n",
    "    \"\"\"Parallelized implementation for the repeated evaluation of fi.\n",
    "\n",
    "    Args:\n",
    "        n: number of repetitions\n",
    "        method: feature importance method.\n",
    "        args: all further arguments that are required for the method\n",
    "        return_raw: Whether only the aggregation (mean, stdd) or also the raw results are returned\n",
    "    \n",
    "    Returns:\n",
    "        mean_fi, std_fi, (raw results)\n",
    "    \"\"\"  \n",
    "    pool = mp.Pool(mp.cpu_count())\n",
    "    with pool: # a simple for loop would be ok as well\n",
    "        results = [pool.apply(method, args=args, kwds=kwargs) for _ in range(n)]\n",
    "    results = np.array(results)\n",
    "    if return_raw:\n",
    "        return np.mean(results, axis=0), np.std(results, axis=0), results\n",
    "    else:\n",
    "        return np.mean(results, axis=0), np.std(results, axis=0)"
   ]
  },
  {
   "cell_type": "markdown",
   "metadata": {
    "cell_id": "4db107fc-dd13-48cc-a4a8-bceb2a09561c",
    "deepnote_cell_height": 74.80000305175781,
    "deepnote_cell_type": "markdown",
    "tags": []
   },
   "source": [
    "Now we apply the method to our model and dataset."
   ]
  },
  {
   "cell_type": "code",
   "execution_count": 83,
   "metadata": {
    "cell_id": "9043ea60-c6fe-4009-8848-038259a8404a",
    "deepnote_cell_height": 435,
    "deepnote_cell_type": "code",
    "deepnote_output_heights": [
     212
    ],
    "deepnote_to_be_reexecuted": false,
    "execution_millis": 979,
    "execution_start": 1652432581636,
    "source_hash": "f439ec5",
    "tags": []
   },
   "outputs": [
    {
     "name": "stdout",
     "output_type": "stream",
     "text": [
      "Collecting package metadata (current_repodata.json): ...working... done\n",
      "Solving environment: ...working... done\n",
      "\n",
      "# All requested packages already installed.\n",
      "\n",
      "Retrieving notices: ...working... done\n"
     ]
    },
    {
     "data": {
      "image/png": "[encoded data removed]",
      "text/plain": [
       "<Figure size 360x216 with 1 Axes>"
      ]
     },
     "metadata": {},
     "output_type": "display_data"
    }
   ],
   "source": [
    "nr_runs = 10\n",
    "\n",
    "plt.figure(figsize=(5, 3))\n",
    "plt.title('pfi')\n",
    "fis_mean, fis_std = n_times(nr_runs, fi_naive, pfi_fname, model.predict, mean_squared_error, X_test, y_test, return_raw=False)\n",
    "ordering = np.argsort(fis_mean)\n",
    "plt.bar(X_test.columns[ordering], fis_mean[ordering], yerr=fis_std[ordering])\n",
    "plt.show()"
   ]
  },
  {
   "cell_type": "markdown",
   "metadata": {
    "cell_id": "ef255452-93bc-4933-b654-365877f57713",
    "deepnote_cell_height": 588,
    "deepnote_cell_type": "markdown",
    "owner_user_id": "7a4dd9ac-3344-4434-b7bc-914577d87e19",
    "tags": []
   },
   "source": [
    "### e)\n",
    "\n",
    "$X_3$ is the most important feature, with $X_1$ and $X_2$ sharing the second place. PFI considers $X_4$ to be irrelevant.\n",
    "\n",
    "According to the PFI interpretation rules, without further assumptions about the data, we know that\n",
    "\n",
    "- $X_1, X_2, X_3$ are used by the model for it's prediction\n",
    "- $X_1, X_2, X_3$ are dependent with $Y$ and/or dependent with the covariates\n",
    "- $X_4$ may be independent of $Y$ and covariates and/or not used by the model. We only know that it is not both dependent and used by the model.\n",
    "\n",
    "If we additionally analyze the data we find out that $X_1, X_2$ are dependent but $X_3$ is independent of all covariates.\n",
    "\n",
    "As such, we can further conclude that $X_3$ is dependent with $Y$ (but do not know for $X_1, X_2$ without looking into the data)."
   ]
  },
  {
   "cell_type": "markdown",
   "metadata": {
    "cell_id": "13e7a6e2-fb12-46b3-afe2-d9195293ec80",
    "deepnote_cell_height": 62,
    "deepnote_cell_type": "markdown",
    "tags": []
   },
   "source": [
    "### f)"
   ]
  },
  {
   "cell_type": "code",
   "execution_count": 84,
   "metadata": {
    "cell_id": "f7c1a49b-d2fa-4811-9601-eede85cc9a1d",
    "deepnote_cell_height": 111.69999694824219,
    "deepnote_cell_type": "code",
    "deepnote_to_be_reexecuted": false,
    "execution_millis": 0,
    "execution_start": 1652432586695,
    "source_hash": "82cbf429",
    "tags": []
   },
   "outputs": [
    {
     "name": "stdout",
     "output_type": "stream",
     "text": [
      "[-0.11651182  0.11452828  1.00861227  0.00535158] 0.002719863708046652\n"
     ]
    }
   ],
   "source": [
    "print(model.coef_, model.intercept_)"
   ]
  },
  {
   "cell_type": "code",
   "execution_count": 85,
   "metadata": {
    "cell_id": "a3f481d1-4888-4e7a-91f0-93815a224563",
    "deepnote_cell_height": 491,
    "deepnote_cell_type": "code",
    "deepnote_to_be_reexecuted": false,
    "execution_millis": 91,
    "execution_start": 1652432588219,
    "source_hash": "4858d179",
    "tags": []
   },
   "outputs": [
    {
     "data": {
      "text/html": [
       "<div>\n",
       "<style scoped>\n",
       "    .dataframe tbody tr th:only-of-type {\n",
       "        vertical-align: middle;\n",
       "    }\n",
       "\n",
       "    .dataframe tbody tr th {\n",
       "        vertical-align: top;\n",
       "    }\n",
       "\n",
       "    .dataframe thead th {\n",
       "        text-align: right;\n",
       "    }\n",
       "</style>\n",
       "<table border=\"1\" class=\"dataframe\">\n",
       "  <thead>\n",
       "    <tr style=\"text-align: right;\">\n",
       "      <th></th>\n",
       "      <th>x1</th>\n",
       "      <th>x2</th>\n",
       "      <th>x3</th>\n",
       "      <th>x4</th>\n",
       "      <th>y</th>\n",
       "    </tr>\n",
       "  </thead>\n",
       "  <tbody>\n",
       "    <tr>\n",
       "      <th>x1</th>\n",
       "      <td>1.0***</td>\n",
       "      <td>1.0***</td>\n",
       "      <td>0.03</td>\n",
       "      <td>-0.05</td>\n",
       "      <td>0.02</td>\n",
       "    </tr>\n",
       "    <tr>\n",
       "      <th>x2</th>\n",
       "      <td>1.0***</td>\n",
       "      <td>1.0***</td>\n",
       "      <td>0.03</td>\n",
       "      <td>-0.05</td>\n",
       "      <td>0.02</td>\n",
       "    </tr>\n",
       "    <tr>\n",
       "      <th>x3</th>\n",
       "      <td>0.03</td>\n",
       "      <td>0.03</td>\n",
       "      <td>1.0***</td>\n",
       "      <td>-0.0</td>\n",
       "      <td>1.0***</td>\n",
       "    </tr>\n",
       "    <tr>\n",
       "      <th>x4</th>\n",
       "      <td>-0.05</td>\n",
       "      <td>-0.05</td>\n",
       "      <td>-0.0</td>\n",
       "      <td>1.0***</td>\n",
       "      <td>0.0</td>\n",
       "    </tr>\n",
       "    <tr>\n",
       "      <th>y</th>\n",
       "      <td>0.02</td>\n",
       "      <td>0.02</td>\n",
       "      <td>1.0***</td>\n",
       "      <td>0.0</td>\n",
       "      <td>1.0***</td>\n",
       "    </tr>\n",
       "  </tbody>\n",
       "</table>\n",
       "</div>"
      ],
      "text/plain": [
       "        x1      x2      x3      x4       y\n",
       "x1  1.0***  1.0***    0.03   -0.05    0.02\n",
       "x2  1.0***  1.0***    0.03   -0.05    0.02\n",
       "x3    0.03    0.03  1.0***    -0.0  1.0***\n",
       "x4   -0.05   -0.05    -0.0  1.0***     0.0\n",
       "y     0.02    0.02  1.0***     0.0  1.0***"
      ]
     },
     "execution_count": 85,
     "metadata": {},
     "output_type": "execute_result"
    }
   ],
   "source": [
    "from scipy.stats import pearsonr\n",
    "rho = df.corr()\n",
    "pval = df.corr(method=lambda x, y: pearsonr(x, y)[1]) - np.eye(*rho.shape)\n",
    "p = pval.applymap(lambda x: ''.join(['*' for t in [0.01,0.05,0.1] if x<=t]))\n",
    "rho.round(2).astype(str) + p"
   ]
  },
  {
   "cell_type": "markdown",
   "metadata": {
    "cell_id": "b513c98f5da64e0dae5fcbc410dfd4c6",
    "deepnote_cell_height": 52.399993896484375,
    "deepnote_cell_type": "markdown",
    "tags": []
   },
   "source": [
    "Our interpretation was correct."
   ]
  },
  {
   "cell_type": "markdown",
   "metadata": {
    "cell_id": "b9b1f151-dfbc-401d-b3f6-e7b37965be6a",
    "deepnote_cell_height": 369.20001220703125,
    "deepnote_cell_type": "markdown",
    "tags": []
   },
   "source": [
    "### g)\n",
    "\n",
    "If we know the dependence structure of the covariates we can infer whether or not the PFI value is nonzero due to a dependence with the covariates or not. In our example we now know that $x_3$ is independent of its covariates, so we hypothesize that $x_3$ is actually dependent with $y$ (and would perform importance tests as a consequence). Since $x_1, x_2$ are dependent, for those variables we cannot infer anything about the dependence with $y$ with the covariates dependence structure and PFI alone."
   ]
  },
  {
   "cell_type": "markdown",
   "metadata": {
    "cell_id": "cc901a95-59c0-4024-b5f1-0f94212d79b3",
    "deepnote_cell_height": 70,
    "deepnote_cell_type": "markdown",
    "tags": []
   },
   "source": [
    "## h)"
   ]
  },
  {
   "cell_type": "markdown",
   "metadata": {
    "cell_id": "cc37bf3f-252c-42ef-aca5-7a8afa28942a",
    "deepnote_cell_height": 164.61666870117188,
    "deepnote_cell_type": "markdown",
    "tags": []
   },
   "source": [
    "We use the $\\texttt{extrapolation.csv}$ dataset. We create a pairplot showing the pairwise scatterplot of the original feature as well as the corresponding perturbed variable with all remaining feature variables (and potentially $y$)."
   ]
  },
  {
   "cell_type": "code",
   "execution_count": 86,
   "metadata": {
    "cell_id": "ea34cb44-93a5-47f2-b859-30d0adda8030",
    "deepnote_cell_height": 564,
    "deepnote_cell_type": "code",
    "deepnote_output_heights": [
     359
    ],
    "deepnote_to_be_reexecuted": false,
    "execution_millis": 2900,
    "execution_start": 1648741526208,
    "source_hash": "afd6c991",
    "tags": []
   },
   "outputs": [
    {
     "data": {
      "image/png": "[encoded data removed]",
      "text/plain": [
       "<Figure size 720x360 with 8 Axes>"
      ]
     },
     "metadata": {},
     "output_type": "display_data"
    }
   ],
   "source": [
    "def pairplot_comparison(data, fname):\n",
    "    data.loc[:, fname+'_pert'] = np.random.permutation(data.loc[:, fname])\n",
    "    data = data[sorted(data.columns)]\n",
    "    all_except_fname = list(set(data.columns) - set([fname, fname + '_pert']))\n",
    "    sns.pairplot(data, y_vars=[fname, fname+'_pert'], x_vars=all_except_fname)\n",
    "\n",
    "pairplot_comparison(df, 'x2')"
   ]
  },
  {
   "cell_type": "markdown",
   "metadata": {
    "cell_id": "a5d3ea9d-b5a6-4b3c-a55f-5bb3e97f5c02",
    "deepnote_cell_height": 254,
    "deepnote_cell_type": "markdown",
    "tags": []
   },
   "source": [
    "We can see that the strong correlation of $x_2$ with $x_1$ (top row) is broken after permutation (bottom row). All other pairwise (in)dependencies are unchanged. Note: We only assess pairwise, unconditional dependencies. Without assumptions about the data, we cannot know whether further conditional depencies with the remaining covariates were broken."
   ]
  },
  {
   "cell_type": "markdown",
   "metadata": {
    "cell_id": "1e9541b5-a316-433b-bf98-e96b2dd04a2f",
    "deepnote_cell_height": 290,
    "deepnote_cell_type": "markdown",
    "tags": []
   },
   "source": [
    "# Exercise 2: Feature Importance without Extrapolation"
   ]
  },
  {
   "cell_type": "markdown",
   "metadata": {
    "cell_id": "9672f204-69d0-4199-97e5-4c53f8b60fd5",
    "deepnote_cell_height": 204.43333435058594,
    "deepnote_cell_type": "markdown",
    "tags": []
   },
   "source": [
    "### a)\n",
    "\n",
    "An efficient, $\\texttt{pytorch}$ based implementation is given in a separate file ($\\texttt{utils.py}$).\n",
    "\n",
    "In order to keep things clean, we only provide a small wrapper function here."
   ]
  },
  {
   "cell_type": "code",
   "execution_count": 87,
   "metadata": {
    "cell_id": "c04694c2-7db4-4c64-adf5-9578dbe8be23",
    "deepnote_cell_height": 329.3999938964844,
    "deepnote_cell_type": "code",
    "deepnote_to_be_reexecuted": false,
    "execution_millis": 3076,
    "execution_start": 1648741531900,
    "source_hash": "8b1c4b14",
    "tags": []
   },
   "outputs": [],
   "source": [
    "import utils\n",
    "\n",
    "def sample_cond(J, C, X_train, X_test, num_samples=1):\n",
    "    \"\"\"Conditional sampler\"\"\"\n",
    "    dist = utils.GaussianConditionalEstimator()\n",
    "    dist.fit(X_train[sorted(J)].to_numpy(), X_train[sorted(C)].to_numpy())\n",
    "    sample = dist.sample(X_test[sorted(C)].to_numpy(), num_samples=num_samples)\n",
    "    iterables = [list(X_test.index), list(range(sample.shape[1]))]\n",
    "    index = pd.MultiIndex.from_product(iterables, names=[\"i\", \"sample\"])\n",
    "    sample_df = pd.DataFrame(sample.reshape(-1, len(J)), columns=sorted(J), index=index)\n",
    "    return sample_df\n",
    "    "
   ]
  },
  {
   "cell_type": "code",
   "execution_count": 88,
   "metadata": {
    "cell_id": "9aec0eeb-b2c3-4731-a91b-f23f3416eabe",
    "deepnote_cell_height": 473,
    "deepnote_cell_type": "code",
    "deepnote_to_be_reexecuted": false,
    "execution_millis": 106,
    "execution_start": 1648741552381,
    "source_hash": "779256d4",
    "tags": []
   },
   "outputs": [
    {
     "data": {
      "text/html": [
       "<div>\n",
       "<style scoped>\n",
       "    .dataframe tbody tr th:only-of-type {\n",
       "        vertical-align: middle;\n",
       "    }\n",
       "\n",
       "    .dataframe tbody tr th {\n",
       "        vertical-align: top;\n",
       "    }\n",
       "\n",
       "    .dataframe thead th {\n",
       "        text-align: right;\n",
       "    }\n",
       "</style>\n",
       "<table border=\"1\" class=\"dataframe\">\n",
       "  <thead>\n",
       "    <tr style=\"text-align: right;\">\n",
       "      <th></th>\n",
       "      <th></th>\n",
       "      <th>x1</th>\n",
       "      <th>x3</th>\n",
       "    </tr>\n",
       "    <tr>\n",
       "      <th>i</th>\n",
       "      <th>sample</th>\n",
       "      <th></th>\n",
       "      <th></th>\n",
       "    </tr>\n",
       "  </thead>\n",
       "  <tbody>\n",
       "    <tr>\n",
       "      <th rowspan=\"5\" valign=\"top\">769</th>\n",
       "      <th>0</th>\n",
       "      <td>0.060654</td>\n",
       "      <td>-0.368185</td>\n",
       "    </tr>\n",
       "    <tr>\n",
       "      <th>1</th>\n",
       "      <td>0.057468</td>\n",
       "      <td>-0.235436</td>\n",
       "    </tr>\n",
       "    <tr>\n",
       "      <th>2</th>\n",
       "      <td>0.069128</td>\n",
       "      <td>-2.075425</td>\n",
       "    </tr>\n",
       "    <tr>\n",
       "      <th>3</th>\n",
       "      <td>0.056055</td>\n",
       "      <td>-0.055083</td>\n",
       "    </tr>\n",
       "    <tr>\n",
       "      <th>4</th>\n",
       "      <td>0.071009</td>\n",
       "      <td>0.861636</td>\n",
       "    </tr>\n",
       "  </tbody>\n",
       "</table>\n",
       "</div>"
      ],
      "text/plain": [
       "                  x1        x3\n",
       "i   sample                    \n",
       "769 0       0.060654 -0.368185\n",
       "    1       0.057468 -0.235436\n",
       "    2       0.069128 -2.075425\n",
       "    3       0.056055 -0.055083\n",
       "    4       0.071009  0.861636"
      ]
     },
     "execution_count": 88,
     "metadata": {},
     "output_type": "execute_result"
    }
   ],
   "source": [
    "J = ['x1', 'x3']\n",
    "C = ['x2', 'x4']\n",
    "sample = sample_cond(J, C, X_train, X_test, num_samples=10)\n",
    "sample.head()"
   ]
  },
  {
   "cell_type": "markdown",
   "metadata": {
    "cell_id": "d755243a-c16e-4984-99ef-0cf04424ff06",
    "deepnote_cell_height": 130.8000030517578,
    "deepnote_cell_type": "markdown",
    "tags": []
   },
   "source": [
    "## b) \n",
    "\n",
    "We implement conditional feature importance (CFI)."
   ]
  },
  {
   "cell_type": "code",
   "execution_count": 89,
   "metadata": {
    "cell_id": "825b7f5c-8217-4913-9a66-1cb9277d341f",
    "deepnote_cell_height": 207,
    "deepnote_cell_type": "code",
    "deepnote_to_be_reexecuted": false,
    "execution_millis": 4,
    "execution_start": 1648741570589,
    "source_hash": "4760f7a4",
    "tags": []
   },
   "outputs": [],
   "source": [
    "def cfi_fname(fname, predict, score, X_test, y_test, X_train, *args):\n",
    "    \"\"\"conditional feature importance for a feature fname\"\"\"\n",
    "    X_test_perturbed = X_test.copy(deep=True)\n",
    "    C = sorted(X_test.columns[X_test.columns != fname])\n",
    "    sample = sample_cond([fname], C, X_train, X_test)\n",
    "    X_test_perturbed[fname] = sample.to_numpy()\n",
    "    performance = score(y_test, predict(X_test_perturbed))  - score(y_test, predict(X_test))\n",
    "    return performance"
   ]
  },
  {
   "cell_type": "markdown",
   "metadata": {
    "cell_id": "cefb7194-82ae-4ee9-9b35-c1fe602d8bc3",
    "deepnote_cell_height": 70,
    "deepnote_cell_type": "markdown",
    "tags": []
   },
   "source": [
    "## c) "
   ]
  },
  {
   "cell_type": "code",
   "execution_count": 90,
   "metadata": {
    "cell_id": "65eac592-fbfe-4577-9c65-dad82e1f182d",
    "deepnote_cell_height": 225,
    "deepnote_cell_type": "code",
    "deepnote_output_heights": [
     2
    ],
    "deepnote_to_be_reexecuted": false,
    "execution_millis": 828,
    "execution_start": 1648741574060,
    "source_hash": "be0208af",
    "tags": []
   },
   "outputs": [
    {
     "data": {
      "image/png": "[encoded data removed]",
      "text/plain": [
       "<Figure size 360x216 with 1 Axes>"
      ]
     },
     "metadata": {},
     "output_type": "display_data"
    }
   ],
   "source": [
    "nr_runs = 10\n",
    "\n",
    "plt.figure(figsize=(5, 3))\n",
    "plt.title('cfi')\n",
    "fis_mean, fis_std = n_times(nr_runs, fi_naive, cfi_fname, model.predict, mean_squared_error, X_test, y_test, X_train, return_raw=False)\n",
    "ordering = np.argsort(fis_mean)\n",
    "plt.bar(X_test.columns[ordering], fis_mean[ordering], yerr=fis_std[ordering])\n",
    "plt.show()"
   ]
  },
  {
   "cell_type": "markdown",
   "metadata": {
    "cell_id": "c9ee7969-2f70-429b-ab5f-95027ccaaeae",
    "deepnote_cell_height": 307.3999938964844,
    "deepnote_cell_type": "markdown",
    "tags": []
   },
   "source": [
    "Now, only $X_3$ is considered relevant. We konw that\n",
    "\n",
    "- $X_3$ is conditionally dependent with $Y$ ($X_3 \\not \\perp Y | X_1, X_2, X_4$) and it is used by the model\n",
    "- without further assumtions, we cannot make conclusions about the remaining variables. We only know that they are not at the same time conditionally dependent with $Y$ and used by the model for it's prediction."
   ]
  },
  {
   "cell_type": "markdown",
   "metadata": {
    "cell_id": "f927b447-6a91-43e7-9796-829e58bbd914",
    "deepnote_cell_height": 62,
    "deepnote_cell_type": "markdown",
    "tags": []
   },
   "source": [
    "### d)"
   ]
  },
  {
   "cell_type": "code",
   "execution_count": 91,
   "metadata": {
    "cell_id": "dd077a47-d2a8-476f-aefd-f5856e53213c",
    "deepnote_cell_height": 801,
    "deepnote_cell_type": "code",
    "deepnote_to_be_reexecuted": false,
    "execution_millis": 106,
    "execution_start": 1648741661485,
    "source_hash": "b4e67645",
    "tags": []
   },
   "outputs": [],
   "source": [
    "import pandas as pd\n",
    "\n",
    "idx = pd.IndexSlice\n",
    "\n",
    "def repeat_df(df, n):\n",
    "    \"\"\"function that repeats dataframe with multiindex\"\"\"\n",
    "    ix_1 = df.index\n",
    "    multindex = pd.MultiIndex.from_product([list(ix_1), list(range(n))], names=['i', 'sample'])\n",
    "    df_new = pd.DataFrame([], columns=df.columns, index=multindex)\n",
    "    for ii in range(n):\n",
    "        df_new.loc[idx[:, ii], df.columns] = df[df.columns].to_numpy()\n",
    "    return df_new\n",
    "\n",
    "def c_value_func_partial(J, predict, score, X_test, y_test, X_train, n_marginalize=10):\n",
    "    \"\"\"partial value function, i.e. performance given all features are\n",
    "    reconstructed conditional on the set J, marginalization of the prediction\n",
    "    over the remaining features\n",
    "    \"\"\"\n",
    "    C = [f for f in X_test.columns if f not in J]\n",
    "    if len(C) == 0:\n",
    "        return score(predict(X_test), y_test)\n",
    "    sample = sample_cond(C, J, X_train, X_test, num_samples=n_marginalize)\n",
    "    X_test_pert = repeat_df(X_test, n_marginalize)\n",
    "    X_test_pert[C] = sample.loc[X_test_pert.index, C].to_numpy()\n",
    "    X_test_pert['y_hat'] = predict(X_test_pert)\n",
    "    y_hat_agg = X_test_pert['y_hat'].groupby('i', sort=False).mean().loc[X_test.index]\n",
    "    return score(y_hat_agg, y_test)\n",
    "\n",
    "def c_value_func(J, S, *args, **kwargs):\n",
    "    \"\"\"conditional sage value function of variables j given coalition S\"\"\"\n",
    "    return c_value_func_partial(S, *args, **kwargs) - c_value_func_partial(J + S, *args, **kwargs)\n",
    "\n",
    "def sage_val_empty(fname, predict, score, X_test, y_test, X_train, n_marginalize=10):\n",
    "    \"\"\"sage value given empty coalition\"\"\"\n",
    "    return c_value_func([fname], [], predict, score, X_test, y_test, X_train, n_marginalize=n_marginalize)\n",
    "\n",
    "def sage_val_remainder(fname, predict, score, X_test, y_test, X_train, n_marginalize=10):\n",
    "    \"\"\"sage value given full remainder as coaliation\"\"\"\n",
    "    remainder = [f for f in X_test.columns if f != fname]\n",
    "    return c_value_func([fname], remainder, predict, score, X_test, y_test, X_train, n_marginalize=n_marginalize)\n"
   ]
  },
  {
   "cell_type": "markdown",
   "metadata": {
    "cell_id": "d4f3b3ec-d49e-496a-a620-2b4664d212f4",
    "deepnote_cell_height": 62,
    "deepnote_cell_type": "markdown",
    "tags": []
   },
   "source": [
    "### e)"
   ]
  },
  {
   "cell_type": "code",
   "execution_count": 92,
   "metadata": {
    "cell_id": "90de8329-15ad-4e38-b391-1bdf65959162",
    "deepnote_cell_height": 243,
    "deepnote_cell_type": "code",
    "deepnote_output_heights": [
     2
    ],
    "deepnote_to_be_reexecuted": false,
    "execution_millis": 26113,
    "execution_start": 1648741663916,
    "source_hash": "94a169eb",
    "tags": []
   },
   "outputs": [
    {
     "data": {
      "image/png": "[encoded data removed]",
      "text/plain": [
       "<Figure size 360x216 with 1 Axes>"
      ]
     },
     "metadata": {},
     "output_type": "display_data"
    }
   ],
   "source": [
    "nr_runs = 10\n",
    "n_marginalize=50\n",
    "\n",
    "plt.figure(figsize=(5, 3))\n",
    "plt.title('sage val(j)')\n",
    "fis_mean, fis_std = n_times(nr_runs, fi_naive, sage_val_empty, model.predict, mean_squared_error, X_test, y_test, X_train, n_marginalize=n_marginalize)\n",
    "ordering = np.argsort(fis_mean)\n",
    "plt.bar(X_test.columns[ordering], fis_mean[ordering], yerr=fis_std[ordering])\n",
    "plt.show()"
   ]
  },
  {
   "cell_type": "markdown",
   "metadata": {
    "cell_id": "be103014-d599-4ecf-9d02-fd88e67e84c2",
    "deepnote_cell_height": 142,
    "deepnote_cell_type": "markdown",
    "tags": []
   },
   "source": [
    "We can hypothesize that $x_3$ is pairwise dependent with $y$, while all other variables are pairwise independent with $y$. We learn that $x_3$ is used by the model. We do not know for the remaining variables."
   ]
  },
  {
   "cell_type": "code",
   "execution_count": 93,
   "metadata": {
    "cell_id": "743d9688-a680-4076-9909-1ee30a2f42b9",
    "deepnote_cell_height": 243,
    "deepnote_cell_type": "code",
    "deepnote_output_heights": [
     2
    ],
    "deepnote_to_be_reexecuted": false,
    "execution_millis": 13241,
    "execution_start": 1648741690034,
    "source_hash": "e57cd39",
    "tags": []
   },
   "outputs": [
    {
     "data": {
      "image/png": "[encoded data removed]",
      "text/plain": [
       "<Figure size 360x216 with 1 Axes>"
      ]
     },
     "metadata": {},
     "output_type": "display_data"
    }
   ],
   "source": [
    "nr_runs = 10\n",
    "n_marginalize = 50\n",
    "\n",
    "plt.figure(figsize=(5, 3))\n",
    "plt.title('sage val(j cup S) - val(S)')\n",
    "fis_mean, fis_std = n_times(nr_runs, fi_naive, sage_val_remainder, model.predict, mean_squared_error, X_test, y_test, X_train, n_marginalize=n_marginalize)\n",
    "ordering = np.argsort(fis_mean)\n",
    "plt.bar(X_test.columns[ordering], fis_mean[ordering], yerr=fis_std[ordering])\n",
    "plt.show()"
   ]
  },
  {
   "cell_type": "markdown",
   "metadata": {
    "cell_id": "00f7fb73-6558-439b-96fd-8404d5e6f61c",
    "deepnote_cell_height": 97.19999694824219,
    "deepnote_cell_type": "markdown",
    "tags": []
   },
   "source": [
    "We additionally learn that the contribution of $x_3$ is unaffected by knowing further covariables."
   ]
  },
  {
   "cell_type": "markdown",
   "metadata": {
    "cell_id": "1400c97b-f183-4d84-9482-6031877217c9",
    "deepnote_cell_height": 150,
    "deepnote_cell_type": "markdown",
    "tags": []
   },
   "source": [
    "## Exercise 3: Refitting based importance"
   ]
  },
  {
   "cell_type": "markdown",
   "metadata": {
    "cell_id": "318ae80a-2352-43be-b8d0-2b33beebda1b",
    "deepnote_cell_height": 62,
    "deepnote_cell_type": "markdown",
    "tags": []
   },
   "source": [
    "### a)"
   ]
  },
  {
   "cell_type": "code",
   "execution_count": 94,
   "metadata": {
    "cell_id": "d7fbc4fa-0b35-428b-b568-2dbdcf638b25",
    "deepnote_cell_height": 261,
    "deepnote_cell_type": "code",
    "deepnote_to_be_reexecuted": false,
    "execution_millis": 16,
    "execution_start": 1648741703284,
    "source_hash": "570ff3a2",
    "tags": []
   },
   "outputs": [],
   "source": [
    "from sklearn.base import clone\n",
    "\n",
    "def loco(fname, predict, score, X_test, y_test, X_train, y_train, model):\n",
    "    \"\"\"loco importance for feature fname\"\"\"\n",
    "    y_hat_pre = predict(X_test)\n",
    "    model_new = clone(model)\n",
    "    remainder = [f for f in X_train.columns if f != fname]\n",
    "    model_new.fit(X_train[remainder], y_train)\n",
    "    y_hat_post = model_new.predict(X_test[remainder])\n",
    "    diff = score(y_hat_post, y_test) - score(y_hat_pre, y_test)\n",
    "    return diff"
   ]
  },
  {
   "cell_type": "markdown",
   "metadata": {
    "cell_id": "94507bb3-e259-4579-9d23-1ab7c9fb7815",
    "deepnote_cell_height": 62,
    "deepnote_cell_type": "markdown",
    "tags": []
   },
   "source": [
    "### b)"
   ]
  },
  {
   "cell_type": "code",
   "execution_count": 95,
   "metadata": {
    "cell_id": "c09f07a6-8331-4374-b366-81b87627b6c0",
    "deepnote_cell_height": 435,
    "deepnote_cell_type": "code",
    "deepnote_output_heights": [
     212
    ],
    "deepnote_to_be_reexecuted": false,
    "execution_millis": 719,
    "execution_start": 1648741892628,
    "source_hash": "2bb82a12",
    "tags": []
   },
   "outputs": [
    {
     "data": {
      "image/png": "[encoded data removed]",
      "text/plain": [
       "<Figure size 360x216 with 1 Axes>"
      ]
     },
     "metadata": {},
     "output_type": "display_data"
    }
   ],
   "source": [
    "nr_runs = 10\n",
    "\n",
    "plt.figure(figsize=(5, 3))\n",
    "plt.title('loco importance')\n",
    "fis_mean, fis_std = n_times(nr_runs, fi_naive, loco, model.predict, mean_squared_error, X_test, y_test, X_train, y_train, model)\n",
    "ordering = np.argsort(fis_mean)\n",
    "plt.bar(X_test.columns[ordering], fis_mean[ordering], yerr=fis_std[ordering])\n",
    "plt.show()"
   ]
  },
  {
   "cell_type": "markdown",
   "metadata": {
    "cell_id": "52219f20-55dc-4c30-9e67-09e5692055e9",
    "deepnote_cell_height": 62,
    "deepnote_cell_type": "markdown",
    "tags": []
   },
   "source": [
    "### c)"
   ]
  },
  {
   "cell_type": "markdown",
   "metadata": {
    "cell_id": "fcafd96a-7fcb-47af-87e2-543575a75af8",
    "deepnote_cell_height": 164.39999389648438,
    "deepnote_cell_type": "markdown",
    "tags": []
   },
   "source": [
    "Result is similar as for SAGE and CFI: only feature $x_3$ is considered relevant. We learn that $x_3$ provides more information than the remaining features combined, (while the other features do not contribute to the performance at all)."
   ]
  },
  {
   "cell_type": "markdown",
   "metadata": {
    "created_in_deepnote_cell": true,
    "deepnote_cell_type": "markdown",
    "tags": []
   },
   "source": [
    "<a style='text-decoration:none;line-height:16px;display:flex;color:#5B5B62;padding:10px;justify-content:end;' href='https://deepnote.com?utm_source=created-in-deepnote-cell&projectId=249d1b8e-109f-4b94-b0ef-ed5d22171b28' target=\"_blank\">\n",
    "<img alt='Created in deepnote.com' style='display:inline;max-height:16px;margin:0px;margin-right:7.5px;' src='data:image/svg+xml;base64,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' > </img>\n",
    "Created in <span style='font-weight:600;margin-left:4px;'>Deepnote</span></a>"
   ]
  }
 ],
 "metadata": {
  "deepnote": {
   "is_reactive": false
  },
  "deepnote_execution_queue": [],
  "deepnote_notebook_id": "b2def229-2a4a-4398-91c8-1090a93a3dcc",
  "kernelspec": {
   "display_name": "Python 3 (ipykernel)",
   "language": "python",
   "name": "python3"
  },
  "language_info": {
   "codemirror_mode": {
    "name": "ipython",
    "version": 3
   },
   "file_extension": ".py",
   "mimetype": "text/x-python",
   "name": "python",
   "nbconvert_exporter": "python",
   "pygments_lexer": "ipython3",
   "version": "3.9.12"
  }
 },
 "nbformat": 4,
 "nbformat_minor": 2
}
